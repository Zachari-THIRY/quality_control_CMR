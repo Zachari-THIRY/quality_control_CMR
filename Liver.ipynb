{
 "cells": [
  {
   "cell_type": "markdown",
   "metadata": {},
   "source": [
    "# Model Monitoring for Liver Image Segmentation"
   ]
  },
  {
   "cell_type": "markdown",
   "metadata": {},
   "source": [
    "## Import Data"
   ]
  },
  {
   "cell_type": "code",
   "execution_count": 1,
   "metadata": {},
   "outputs": [],
   "source": [
    "import os\n",
    "import json\n",
    "import tqdm as notebook_tqdm"
   ]
  },
  {
   "cell_type": "code",
   "execution_count": 2,
   "metadata": {},
   "outputs": [],
   "source": [
    "# Make sure to download your own Kaggle API credentials and place them in the root directory under the name \"kaggle.json\"\n",
    "kaggle_info = json.load(open(\"kaggle.json\"))\n",
    "\n",
    "KAGGLE_USERNAME = kaggle_info['username']\n",
    "KAGGLE_KEY = kaggle_info['key']\n",
    "\n",
    "# Exporting the required variables\n",
    "\n",
    "command = f\"export KAGGLE_USERNAME={KAGGLE_USERNAME} && export KAGGLE_KEY={KAGGLE_KEY}\"\n",
    "!{command}"
   ]
  },
  {
   "cell_type": "code",
   "execution_count": 6,
   "metadata": {},
   "outputs": [
    {
     "name": "stdout",
     "output_type": "stream",
     "text": [
      "liver-tumor-segmentation.zip: Skipping, found more recently modified local copy (use --force to force download)\n"
     ]
    }
   ],
   "source": [
    "if not os.path.exists('./data/liver'):\n",
    "    os.mkdir('./data/liver')\n",
    "command='kaggle datasets download -d andrewmvd/liver-tumor-segmentation -p ./data/liver'\n",
    "!{command}"
   ]
  },
  {
   "cell_type": "code",
   "execution_count": 2,
   "metadata": {},
   "outputs": [],
   "source": [
    "extract_command = \"unzip -q {REL_PATH}/{ZIP_NAME} -d {REL_PATH}/{FOLDER_NAME}\".format(REL_PATH='./data/liver', ZIP_NAME = \"liver-tumor-segmentation.zip\", FOLDER_NAME = \"liver-tumor-segmentation\")\n",
    "!{extract_command}"
   ]
  },
  {
   "cell_type": "markdown",
   "metadata": {},
   "source": [
    "## Data Preparation"
   ]
  },
  {
   "cell_type": "code",
   "execution_count": 3,
   "metadata": {},
   "outputs": [],
   "source": [
    "import os\n",
    "import numpy as np\n",
    "from utils import generate_patient_info_brain, preprocess_brain, structure_dataset, find_segmentations, median_spacing_target"
   ]
  },
  {
   "cell_type": "code",
   "execution_count": 4,
   "metadata": {},
   "outputs": [
    {
     "name": "stdout",
     "output_type": "stream",
     "text": [
      "131 segmentations were successfully retrieved.\n"
     ]
    }
   ],
   "source": [
    "segmentations_paths = find_segmentations(root_dir=\"data/liver/liver-tumor-segmentation/\", keywords=[\"segmentation\"])\n",
    "print(f\"{len(segmentations_paths)} segmentations were successfully retrieved.\")"
   ]
  },
  {
   "cell_type": "code",
   "execution_count": 5,
   "metadata": {},
   "outputs": [],
   "source": [
    "delete = [\n",
    "    \"data/liver/liver-tumor-segmentation/volume_pt1/\",\n",
    "    \"data/liver/liver-tumor-segmentation/volume_pt2/\",\n",
    "    \"data/liver/liver-tumor-segmentation/volume_pt3/\",\n",
    "    \"data/liver/liver-tumor-segmentation/volume_pt4/\",\n",
    "    \"data/liver/liver-tumor-segmentation/volume_pt5/\",\n",
    "    \"data/liver/liver-tumor-segmentation/\"\n",
    "    ]\n",
    "\n",
    "structure_dataset(segmentation_paths=segmentations_paths, destination_folder=\"data/liver/structured\", fileName=\"mask.nii.gz\", delete=delete)"
   ]
  },
  {
   "cell_type": "code",
   "execution_count": 4,
   "metadata": {},
   "outputs": [],
   "source": [
    "patient_info = generate_patient_info_brain(folder=\"data/liver/structured/\")"
   ]
  },
  {
   "cell_type": "code",
   "execution_count": null,
   "metadata": {},
   "outputs": [],
   "source": [
    "  \n",
    "preprocess_brain(data_path='data/liver')"
   ]
  },
  {
   "cell_type": "markdown",
   "metadata": {},
   "source": [
    "## Dataset"
   ]
  },
  {
   "cell_type": "code",
   "execution_count": 8,
   "metadata": {},
   "outputs": [],
   "source": [
    "import os\n",
    "import numpy as np\n",
    "import random\n",
    "import torchvision\n",
    "from utils import AddPadding, CenterCrop, OneHot, ToTensor, MirrorTransform, SpatialTransform\n",
    "from utils import train_val_test"
   ]
  },
  {
   "cell_type": "code",
   "execution_count": 9,
   "metadata": {},
   "outputs": [],
   "source": [
    "train_ids, val_ids, test_ids = train_val_test(data_path='data/brain')\n",
    "\n",
    "transform = torchvision.transforms.Compose([\n",
    "    AddPadding((256,256)),\n",
    "    CenterCrop((256,256)),\n",
    "    OneHot(),\n",
    "    ToTensor()\n",
    "])\n",
    "transform_augmentation = torchvision.transforms.Compose([\n",
    "    MirrorTransform(),\n",
    "    SpatialTransform(patch_size=(256,256), angle_x=(-np.pi/6,np.pi/6), scale=(0.7,1.4), random_crop=True),\n",
    "    OneHot(),\n",
    "    ToTensor()\n",
    "])"
   ]
  },
  {
   "cell_type": "markdown",
   "metadata": {},
   "source": [
    "## Training"
   ]
  },
  {
   "cell_type": "code",
   "execution_count": 2,
   "metadata": {},
   "outputs": [],
   "source": [
    "import sys, importlib\n",
    "import CA, utils\n",
    "import tqdm\n",
    "import numpy as np\n",
    "importlib.reload(sys.modules['CA'])\n",
    "importlib.reload(sys.modules['utils'])\n",
    "\n",
    "import torch\n",
    "import torchvision\n",
    "from utils import AddPadding, CenterCrop, OneHot, ToTensor, MirrorTransform, SpatialTransform\n",
    "\n",
    "from CA import AE, plot_history, hyperparameter_tuning\n",
    "from utils import SYNDalaLoader\n",
    "\n",
    "device = torch.device(\"cuda\" if torch.cuda.is_available() else \"cpu\")"
   ]
  },
  {
   "cell_type": "code",
   "execution_count": 3,
   "metadata": {},
   "outputs": [],
   "source": [
    "transform = torchvision.transforms.Compose([\n",
    "    AddPadding((256,256)),\n",
    "    CenterCrop((256,256)),\n",
    "    OneHot(),\n",
    "    ToTensor()\n",
    "])\n",
    "transform_augmentation = torchvision.transforms.Compose([\n",
    "    MirrorTransform(),\n",
    "    SpatialTransform(patch_size=(256,256), angle_x=(-np.pi/6,np.pi/6), scale=(0.7,1.4), random_crop=True),\n",
    "    OneHot(),\n",
    "    ToTensor()\n",
    "])"
   ]
  },
  {
   "cell_type": "code",
   "execution_count": 4,
   "metadata": {},
   "outputs": [],
   "source": [
    "#the following cell allows the user to tune his own hyperparameters. In case you wanna try our hyperparameters first, just skip this cell.\n",
    "RUN = False\n",
    "#this is a list of possible values being tested for each hyperparameter.\n",
    "parameters = {\n",
    "    \"DA\": [True, False], #data augmentation\n",
    "    \"latent_size\": [100, 500], #size of the latent space of the autoencoder\n",
    "    \"BATCH_SIZE\": [8, 16, 4],\n",
    "    \"optimizer\": [torch.optim.Adam],\n",
    "    \"lr\": [2e-4, 1e-4, 1e-3],\n",
    "    \"weight_decay\": [1e-5],\n",
    "    \"tuning_epochs\": [5, 10], #number of epochs each configuration is run for\n",
    "    \"functions\": [[\"GDLoss\", \"MSELoss\"], [\"GDLoss\"], [\"BKGDLoss\", \"BKMSELoss\"]], #list of loss functions to be evaluated. BK stands for \"background\", which is a predominant and not compulsory class (it can lead to a dumb local minimum retrieving totally black images).\n",
    "    \"settling_epochs_BKGDLoss\": [10, 0], #during these epochs BK has half the weight of LV, RV and MYO in the evaluation of BKGDLoss\n",
    "    \"settling_epochs_BKMSELoss\": [10, 0], #during these epochs BK has half the weight of LV, RV and MYO in the evaluation of BKMSELoss\n",
    "}\n",
    "\n",
    "#this is a list of rules cutting out some useless combinations of hyperparameters from the tuning process.\n",
    "rules = [\n",
    "    '\"settling_epochs_BKGDLoss\" == 0 or \"BKGDLoss\" in \"functions\"',\n",
    "    '\"settling_epochs_BKMSELoss\" == 0 or \"BKMSELoss\" in \"functions\"',\n",
    "    '\"BKGDLoss\" not in \"functions\" or \"settling_epochs_BKGDLoss\" <= \"tuning_epochs\"',\n",
    "    '\"BKMSELoss\" not in \"functions\" or \"settling_epochs_BKMSELoss\" <= \"tuning_epochs\"',\n",
    "    #'\"BKGDLoss\" not in \"functions\" or \"settling_epochs_BKGDLoss\" >= \"settling_epochs_BKMSELoss\"'\n",
    "]\n",
    "\n",
    "train_ids = np.load('./data/liver/saved_ids.npy', allow_pickle=True).item().get('train_ids')\n",
    "val_ids = np.load('./data/liver/saved_ids.npy', allow_pickle=True).item().get('val_ids')\n",
    "\n",
    "if RUN: \n",
    "    optimal_parameters = hyperparameter_tuning(\n",
    "        parameters,\n",
    "        SYNDalaLoader(\"data/liver/preprocessed/\", patient_ids=train_ids[0:10], batch_size=None, transform=None),\n",
    "        SYNDalaLoader(\"data/liver/preprocessed/\", patient_ids=val_ids, batch_size=None, transform=None),\n",
    "        transform, transform_augmentation,\n",
    "        rules,\n",
    "        fast=True) #very important parameter. When False, all combinations are tested to return the one retrieving the maximum DSC. When True, the first combination avoiding dumb local minima is returned.\n",
    "\n",
    "\n",
    "    np.save(os.path.join(\"data/liver/preprocessed/\", \"optimal_parameters\"), optimal_parameters)"
   ]
  },
  {
   "cell_type": "code",
   "execution_count": null,
   "metadata": {
    "scrolled": true
   },
   "outputs": [
    {
     "name": "stdout",
     "output_type": "stream",
     "text": [
      "AE(\n",
      "  (encoder): Sequential(\n",
      "    (0): Conv2d(4, 32, kernel_size=(4, 4), stride=(2, 2), padding=(1, 1))\n",
      "    (1): BatchNorm2d(32, eps=1e-05, momentum=0.1, affine=True, track_running_stats=True)\n",
      "    (2): LeakyReLU(negative_slope=0.2)\n",
      "    (3): Dropout(p=0.5, inplace=False)\n",
      "    (4): Conv2d(32, 32, kernel_size=(4, 4), stride=(2, 2), padding=(1, 1))\n",
      "    (5): BatchNorm2d(32, eps=1e-05, momentum=0.1, affine=True, track_running_stats=True)\n",
      "    (6): LeakyReLU(negative_slope=0.2)\n",
      "    (7): Dropout(p=0.5, inplace=False)\n",
      "    (8): Conv2d(32, 32, kernel_size=(4, 4), stride=(2, 2), padding=(1, 1))\n",
      "    (9): BatchNorm2d(32, eps=1e-05, momentum=0.1, affine=True, track_running_stats=True)\n",
      "    (10): LeakyReLU(negative_slope=0.2)\n",
      "    (11): Dropout(p=0.5, inplace=False)\n",
      "    (12): Conv2d(32, 32, kernel_size=(3, 3), stride=(1, 1), padding=(1, 1))\n",
      "    (13): BatchNorm2d(32, eps=1e-05, momentum=0.1, affine=True, track_running_stats=True)\n",
      "    (14): LeakyReLU(negative_slope=0.2)\n",
      "    (15): Dropout(p=0.5, inplace=False)\n",
      "    (16): Conv2d(32, 64, kernel_size=(4, 4), stride=(2, 2), padding=(1, 1))\n",
      "    (17): BatchNorm2d(64, eps=1e-05, momentum=0.1, affine=True, track_running_stats=True)\n",
      "    (18): LeakyReLU(negative_slope=0.2)\n",
      "    (19): Dropout(p=0.5, inplace=False)\n",
      "    (20): Conv2d(64, 64, kernel_size=(3, 3), stride=(1, 1), padding=(1, 1))\n",
      "    (21): BatchNorm2d(64, eps=1e-05, momentum=0.1, affine=True, track_running_stats=True)\n",
      "    (22): LeakyReLU(negative_slope=0.2)\n",
      "    (23): Dropout(p=0.5, inplace=False)\n",
      "    (24): Conv2d(64, 128, kernel_size=(4, 4), stride=(2, 2), padding=(1, 1))\n",
      "    (25): BatchNorm2d(128, eps=1e-05, momentum=0.1, affine=True, track_running_stats=True)\n",
      "    (26): LeakyReLU(negative_slope=0.2)\n",
      "    (27): Dropout(p=0.5, inplace=False)\n",
      "    (28): Conv2d(128, 64, kernel_size=(3, 3), stride=(1, 1), padding=(1, 1))\n",
      "    (29): BatchNorm2d(64, eps=1e-05, momentum=0.1, affine=True, track_running_stats=True)\n",
      "    (30): LeakyReLU(negative_slope=0.2)\n",
      "    (31): Dropout(p=0.5, inplace=False)\n",
      "    (32): Conv2d(64, 32, kernel_size=(3, 3), stride=(1, 1), padding=(1, 1))\n",
      "    (33): BatchNorm2d(32, eps=1e-05, momentum=0.1, affine=True, track_running_stats=True)\n",
      "    (34): LeakyReLU(negative_slope=0.2)\n",
      "    (35): Dropout(p=0.5, inplace=False)\n",
      "    (36): Conv2d(32, 100, kernel_size=(4, 4), stride=(2, 2), padding=(1, 1))\n",
      "  )\n",
      "  (decoder): Sequential(\n",
      "    (0): ConvTranspose2d(100, 32, kernel_size=(4, 4), stride=(2, 2), padding=(1, 1))\n",
      "    (1): BatchNorm2d(32, eps=1e-05, momentum=0.1, affine=True, track_running_stats=True)\n",
      "    (2): LeakyReLU(negative_slope=0.2)\n",
      "    (3): Dropout(p=0.5, inplace=False)\n",
      "    (4): ConvTranspose2d(32, 64, kernel_size=(3, 3), stride=(1, 1), padding=(1, 1))\n",
      "    (5): BatchNorm2d(64, eps=1e-05, momentum=0.1, affine=True, track_running_stats=True)\n",
      "    (6): LeakyReLU(negative_slope=0.2)\n",
      "    (7): Dropout(p=0.5, inplace=False)\n",
      "    (8): ConvTranspose2d(64, 128, kernel_size=(3, 3), stride=(1, 1), padding=(1, 1))\n",
      "    (9): BatchNorm2d(128, eps=1e-05, momentum=0.1, affine=True, track_running_stats=True)\n",
      "    (10): LeakyReLU(negative_slope=0.2)\n",
      "    (11): Dropout(p=0.5, inplace=False)\n",
      "    (12): ConvTranspose2d(128, 64, kernel_size=(4, 4), stride=(2, 2), padding=(1, 1))\n",
      "    (13): BatchNorm2d(64, eps=1e-05, momentum=0.1, affine=True, track_running_stats=True)\n",
      "    (14): LeakyReLU(negative_slope=0.2)\n",
      "    (15): Dropout(p=0.5, inplace=False)\n",
      "    (16): ConvTranspose2d(64, 64, kernel_size=(3, 3), stride=(1, 1), padding=(1, 1))\n",
      "    (17): BatchNorm2d(64, eps=1e-05, momentum=0.1, affine=True, track_running_stats=True)\n",
      "    (18): LeakyReLU(negative_slope=0.2)\n",
      "    (19): Dropout(p=0.5, inplace=False)\n",
      "    (20): ConvTranspose2d(64, 32, kernel_size=(4, 4), stride=(2, 2), padding=(1, 1))\n",
      "    (21): BatchNorm2d(32, eps=1e-05, momentum=0.1, affine=True, track_running_stats=True)\n",
      "    (22): LeakyReLU(negative_slope=0.2)\n",
      "    (23): Dropout(p=0.5, inplace=False)\n",
      "    (24): ConvTranspose2d(32, 32, kernel_size=(3, 3), stride=(1, 1), padding=(1, 1))\n",
      "    (25): BatchNorm2d(32, eps=1e-05, momentum=0.1, affine=True, track_running_stats=True)\n",
      "    (26): LeakyReLU(negative_slope=0.2)\n",
      "    (27): Dropout(p=0.5, inplace=False)\n",
      "    (28): ConvTranspose2d(32, 32, kernel_size=(4, 4), stride=(2, 2), padding=(1, 1))\n",
      "    (29): BatchNorm2d(32, eps=1e-05, momentum=0.1, affine=True, track_running_stats=True)\n",
      "    (30): LeakyReLU(negative_slope=0.2)\n",
      "    (31): Dropout(p=0.5, inplace=False)\n",
      "    (32): ConvTranspose2d(32, 32, kernel_size=(4, 4), stride=(2, 2), padding=(1, 1))\n",
      "    (33): BatchNorm2d(32, eps=1e-05, momentum=0.1, affine=True, track_running_stats=True)\n",
      "    (34): LeakyReLU(negative_slope=0.2)\n",
      "    (35): Dropout(p=0.5, inplace=False)\n",
      "    (36): ConvTranspose2d(32, 4, kernel_size=(4, 4), stride=(2, 2), padding=(1, 1))\n",
      "    (37): Softmax(dim=1)\n",
      "  )\n",
      ")\n",
      "\u001b[1mEpoch [100]\u001b[0m\n",
      "BKGDLo\tBKMSEL\tTotal\tBK_dc\tBK_hd\tRV_dc\tRV_hd\tMYO_dc\tMYO_hd\tLV_dc\tLV_hd\t\n",
      "0.0230\t0.0093\t0.0324\t0.9880\t19.914\t0.9524\t20.618\t0.0000\tnan\t0.0000\tnan\t\n",
      "\u001b[1mEpoch [101]\u001b[0m\n",
      "BKGDLo\tBKMSEL\tTotal\tBK_dc\tBK_hd\tRV_dc\tRV_hd\tMYO_dc\tMYO_hd\tLV_dc\tLV_hd\t\n",
      "0.0225\t0.0092\t0.0318\t0.9854\t20.337\t0.9585\t19.027\t0.0000\tnan\t0.0000\tnan\t\n",
      "\u001b[1mEpoch [102]\u001b[0m\n",
      "BKGDLo\tBKMSEL\tTotal\tBK_dc\tBK_hd\tRV_dc\tRV_hd\tMYO_dc\tMYO_hd\tLV_dc\tLV_hd\t\n",
      "0.0219\t0.0089\t0.0309\t0.9873\t19.014\t0.9579\t18.988\t0.0000\tnan\t0.0000\tnan\t\n",
      "\u001b[1mEpoch [103]\u001b[0m\n",
      "BKGDLo\tBKMSEL\tTotal\tBK_dc\tBK_hd\tRV_dc\tRV_hd\tMYO_dc\tMYO_hd\tLV_dc\tLV_hd\t\n",
      "0.0215\t0.0088\t0.0303\t0.9894\t17.474\t0.9557\t20.181\t0.0000\tnan\t0.0000\tnan\t\n",
      "\u001b[1mEpoch [104]\u001b[0m\n",
      "BKGDLo\tBKMSEL\tTotal\tBK_dc\tBK_hd\tRV_dc\tRV_hd\tMYO_dc\tMYO_hd\tLV_dc\tLV_hd\t\n",
      "0.0228\t0.0094\t0.0322\t0.9883\t17.597\t0.9522\t20.098\t0.0000\tnan\t0.0000\tnan\t\n",
      "\u001b[1mEpoch [105]\u001b[0m\n",
      "BKGDLo\tBKMSEL\tTotal\tBK_dc\tBK_hd\tRV_dc\tRV_hd\tMYO_dc\tMYO_hd\tLV_dc\tLV_hd\t\n",
      "0.0231\t0.0094\t0.0325\t0.9864\t19.325\t0.9550\t19.732\t0.0000\tnan\t0.0000\tnan\t\n",
      "\u001b[1mEpoch [106]\u001b[0m\n",
      "BKGDLo\tBKMSEL\tTotal\tBK_dc\tBK_hd\tRV_dc\tRV_hd\tMYO_dc\tMYO_hd\tLV_dc\tLV_hd\t\n",
      "0.0212\t0.0087\t0.0299\t0.9897\t17.052\t0.9561\t19.716\t0.0000\tnan\t0.0000\tnan\t\n",
      "\u001b[1mEpoch [107]\u001b[0m\n",
      "BKGDLo\tBKMSEL\tTotal\tBK_dc\tBK_hd\tRV_dc\tRV_hd\tMYO_dc\tMYO_hd\tLV_dc\tLV_hd\t\n",
      "0.0224\t0.0092\t0.0316\t0.9885\t17.765\t0.9535\t20.202\t0.0000\tnan\t0.0000\tnan\t\n",
      "\u001b[1mEpoch [108]\u001b[0m\n",
      "BKGDLo\tBKMSEL\tTotal\tBK_dc\tBK_hd\tRV_dc\tRV_hd\tMYO_dc\tMYO_hd\tLV_dc\tLV_hd\t\n",
      "0.0225\t0.0094\t0.0319\t0.9885\t16.618\t0.9524\t20.163\t0.0000\tnan\t0.0000\tnan\t\n",
      "\u001b[1mEpoch [109]\u001b[0m\n",
      "BKGDLo\tBKMSEL\tTotal\tBK_dc\tBK_hd\tRV_dc\tRV_hd\tMYO_dc\tMYO_hd\tLV_dc\tLV_hd\t\n",
      "0.0253\t0.0104\t0.0357\t0.9838\t19.982\t0.9523\t18.724\t0.0000\tnan\t0.0000\tnan\t\n",
      "\u001b[1mEpoch [110]\u001b[0m\n",
      "BKGDLo\tBKMSEL\tTotal\tBK_dc\tBK_hd\tRV_dc\tRV_hd\tMYO_dc\tMYO_hd\tLV_dc\tLV_hd\t\n",
      "0.0220\t0.0090\t0.0311\t0.9875\t18.956\t0.9568\t19.606\t0.0000\tnan\t0.0000\tnan\t\n",
      "\u001b[1mEpoch [111]\u001b[0m\n",
      "BKGDLo\tBKMSEL\tTotal\tBK_dc\tBK_hd\tRV_dc\tRV_hd\tMYO_dc\tMYO_hd\tLV_dc\tLV_hd\t\n",
      "0.0219\t0.0090\t0.0309\t0.9891\t17.393\t0.9543\t19.736\t0.0000\tnan\t0.0000\tnan\t\n",
      "\u001b[1mEpoch [112]\u001b[0m\n",
      "BKGDLo\tBKMSEL\tTotal\tBK_dc\tBK_hd\tRV_dc\tRV_hd\tMYO_dc\tMYO_hd\tLV_dc\tLV_hd\t\n",
      "0.0216\t0.0088\t0.0304\t0.9891\t18.710\t0.9555\t19.843\t0.0000\tnan\t0.0000\tnan\t\n",
      "\u001b[1mEpoch [113]\u001b[0m\n",
      "BKGDLo\tBKMSEL\tTotal\tBK_dc\tBK_hd\tRV_dc\tRV_hd\tMYO_dc\tMYO_hd\tLV_dc\tLV_hd\t\n",
      "0.0267\t0.0112\t0.0379\t0.9850\t19.711\t0.9428\t20.998\t0.0000\tnan\t0.0000\tnan\t\n",
      "\u001b[1mEpoch [114]\u001b[0m\n",
      "BKGDLo\tBKMSEL\tTotal\tBK_dc\tBK_hd\tRV_dc\tRV_hd\tMYO_dc\tMYO_hd\tLV_dc\tLV_hd\t\n",
      "0.0210\t0.0086\t0.0296\t0.9897\t17.181\t0.9566\t19.607\t0.0000\tnan\t0.0000\tnan\t\n",
      "\u001b[1mEpoch [115]\u001b[0m\n",
      "BKGDLo\tBKMSEL\tTotal\tBK_dc\tBK_hd\tRV_dc\tRV_hd\tMYO_dc\tMYO_hd\tLV_dc\tLV_hd\t\n",
      "0.0235\t0.0095\t0.0330\t0.9859\t20.398\t0.9544\t20.027\t0.0000\tnan\t0.0000\tnan\t\n",
      "\u001b[1mEpoch [116]\u001b[0m\n",
      "BKGDLo\tBKMSEL\tTotal\tBK_dc\tBK_hd\tRV_dc\tRV_hd\tMYO_dc\tMYO_hd\tLV_dc\tLV_hd\t\n",
      "0.0226\t0.0092\t0.0317\t0.9885\t17.200\t0.9537\t19.908\t0.0000\tnan\t0.0000\tnan\t\n",
      "\u001b[1mEpoch [117]\u001b[0m\n",
      "BKGDLo\tBKMSEL\tTotal\tBK_dc\tBK_hd\tRV_dc\tRV_hd\tMYO_dc\tMYO_hd\tLV_dc\tLV_hd\t\n",
      "0.0216\t0.0089\t0.0306\t0.9893\t16.798\t0.9545\t20.176\t0.0000\tnan\t0.0000\tnan\t\n",
      "\u001b[1mEpoch [118]\u001b[0m\n",
      "BKGDLo\tBKMSEL\tTotal\tBK_dc\tBK_hd\tRV_dc\tRV_hd\tMYO_dc\tMYO_hd\tLV_dc\tLV_hd\t\n",
      "0.0208\t0.0085\t0.0293\t0.9899\t16.739\t0.9568\t19.919\t0.0000\tnan\t0.0000\tnan\t\n",
      "\u001b[1mEpoch [119]\u001b[0m\n",
      "BKGDLo\tBKMSEL\tTotal\tBK_dc\tBK_hd\tRV_dc\tRV_hd\tMYO_dc\tMYO_hd\tLV_dc\tLV_hd\t\n",
      "0.0211\t0.0086\t0.0297\t0.9897\t17.636\t0.9568\t19.267\t0.0000\tnan\t0.0000\tnan\t\n",
      "\u001b[1mEpoch [120]\u001b[0m\n",
      "BKGDLo\tBKMSEL\tTotal\tBK_dc\tBK_hd\tRV_dc\tRV_hd\tMYO_dc\tMYO_hd\tLV_dc\tLV_hd\t\n",
      "0.0224\t0.0091\t0.0315\t0.9878\t19.131\t0.9547\t19.912\t0.0000\tnan\t0.0000\tnan\t\n",
      "\u001b[1mEpoch [121]\u001b[0m\n",
      "BKGDLo\tBKMSEL\tTotal\tBK_dc\tBK_hd\tRV_dc\tRV_hd\tMYO_dc\tMYO_hd\tLV_dc\tLV_hd\t\n",
      "0.0210\t0.0086\t0.0295\t0.9892\t19.414\t0.9576\t19.519\t0.0000\tnan\t0.0000\tnan\t\n"
     ]
    },
    {
     "name": "stdout",
     "output_type": "stream",
     "text": [
      "\u001b[1mEpoch [122]\u001b[0m\n",
      "BKGDLo\tBKMSEL\tTotal\tBK_dc\tBK_hd\tRV_dc\tRV_hd\tMYO_dc\tMYO_hd\tLV_dc\tLV_hd\t\n",
      "0.0246\t0.0101\t0.0348\t0.9871\t18.852\t0.9483\t20.210\t0.0000\tnan\t0.0000\tnan\t\n",
      "\u001b[1mEpoch [123]\u001b[0m\n",
      "BKGDLo\tBKMSEL\tTotal\tBK_dc\tBK_hd\tRV_dc\tRV_hd\tMYO_dc\tMYO_hd\tLV_dc\tLV_hd\t\n",
      "0.0236\t0.0097\t0.0333\t0.9874\t19.841\t0.9508\t20.021\t0.0000\tnan\t0.0000\tnan\t\n",
      "\u001b[1mEpoch [124]\u001b[0m\n",
      "BKGDLo\tBKMSEL\tTotal\tBK_dc\tBK_hd\tRV_dc\tRV_hd\tMYO_dc\tMYO_hd\tLV_dc\tLV_hd\t\n",
      "0.0215\t0.0088\t0.0302\t0.9878\t19.067\t0.9582\t19.578\t0.0000\tnan\t0.0000\tnan\t\n",
      "\u001b[1mEpoch [125]\u001b[0m\n",
      "BKGDLo\tBKMSEL\tTotal\tBK_dc\tBK_hd\tRV_dc\tRV_hd\tMYO_dc\tMYO_hd\tLV_dc\tLV_hd\t\n",
      "0.0214\t0.0088\t0.0302\t0.9874\t18.817\t0.9585\t19.139\t0.0000\tnan\t0.0000\tnan\t\n",
      "\u001b[1mEpoch [126]\u001b[0m\n",
      "BKGDLo\tBKMSEL\tTotal\tBK_dc\tBK_hd\tRV_dc\tRV_hd\tMYO_dc\tMYO_hd\tLV_dc\tLV_hd\t\n",
      "0.0212\t0.0087\t0.0299\t0.9895\t17.603\t0.9560\t20.250\t0.0000\tnan\t0.0000\tnan\t\n",
      "\u001b[1mEpoch [127]\u001b[0m\n",
      "BKGDLo\tBKMSEL\tTotal\tBK_dc\tBK_hd\tRV_dc\tRV_hd\tMYO_dc\tMYO_hd\tLV_dc\tLV_hd\t\n",
      "0.0270\t0.0111\t0.0381\t0.9829\t21.314\t0.9454\t20.827\t0.0000\tnan\t0.0000\tnan\t\n",
      "\u001b[1mEpoch [128]\u001b[0m\n",
      "BKGDLo\tBKMSEL\tTotal\tBK_dc\tBK_hd\tRV_dc\tRV_hd\tMYO_dc\tMYO_hd\tLV_dc\tLV_hd\t\n",
      "0.0232\t0.0095\t0.0327\t0.9880\t17.663\t0.9517\t19.659\t0.0000\tnan\t0.0000\tnan\t\n",
      "\u001b[1mEpoch [129]\u001b[0m\n",
      "BKGDLo\tBKMSEL\tTotal\tBK_dc\tBK_hd\tRV_dc\tRV_hd\tMYO_dc\tMYO_hd\tLV_dc\tLV_hd\t\n",
      "0.0220\t0.0090\t0.0310\t0.9889\t17.406\t0.9542\t19.795\t0.0000\tnan\t0.0000\tnan\t\n",
      "\u001b[1mEpoch [130]\u001b[0m\n",
      "BKGDLo\tBKMSEL\tTotal\tBK_dc\tBK_hd\tRV_dc\tRV_hd\tMYO_dc\tMYO_hd\tLV_dc\tLV_hd\t\n",
      "0.0229\t0.0095\t0.0324\t0.9876\t19.502\t0.9528\t19.726\t0.0000\tnan\t0.0000\tnan\t\n",
      "\u001b[1mEpoch [131]\u001b[0m\n",
      "BKGDLo\tBKMSEL\tTotal\tBK_dc\tBK_hd\tRV_dc\tRV_hd\tMYO_dc\tMYO_hd\tLV_dc\tLV_hd\t\n",
      "0.0214\t0.0087\t0.0301\t0.9892\t19.347\t0.9558\t20.017\t0.0000\tnan\t0.0000\tnan\t\n",
      "\u001b[1mEpoch [132]\u001b[0m\n",
      "BKGDLo\tBKMSEL\tTotal\tBK_dc\tBK_hd\tRV_dc\tRV_hd\tMYO_dc\tMYO_hd\tLV_dc\tLV_hd\t\n",
      "0.0222\t0.0092\t0.0313\t0.9882\t19.390\t0.9543\t19.587\t0.0000\tnan\t0.0000\tnan\t\n",
      "\u001b[1mEpoch [133]\u001b[0m\n",
      "BKGDLo\tBKMSEL\tTotal\tBK_dc\tBK_hd\tRV_dc\tRV_hd\tMYO_dc\tMYO_hd\tLV_dc\tLV_hd\t\n",
      "0.0225\t0.0092\t0.0317\t0.9870\t18.990\t0.9562\t19.501\t0.0000\tnan\t0.0000\tnan\t\n",
      "\u001b[1mEpoch [134]\u001b[0m\n",
      "BKGDLo\tBKMSEL\tTotal\tBK_dc\tBK_hd\tRV_dc\tRV_hd\tMYO_dc\tMYO_hd\tLV_dc\tLV_hd\t\n",
      "0.0220\t0.0090\t0.0311\t0.9891\t17.026\t0.9542\t19.740\t0.0000\tnan\t0.0000\tnan\t\n",
      "\u001b[1mEpoch [135]\u001b[0m\n",
      "BKGDLo\tBKMSEL\tTotal\tBK_dc\tBK_hd\tRV_dc\tRV_hd\tMYO_dc\tMYO_hd\tLV_dc\tLV_hd\t\n",
      "0.0211\t0.0085\t0.0296\t0.9890\t19.067\t0.9578\t19.624\t0.0000\tnan\t0.0000\tnan\t\n",
      "\u001b[1mEpoch [136]\u001b[0m\n",
      "BKGDLo\tBKMSEL\tTotal\tBK_dc\tBK_hd\tRV_dc\tRV_hd\tMYO_dc\tMYO_hd\tLV_dc\tLV_hd\t\n",
      "0.0212\t0.0087\t0.0299\t0.9898\t16.982\t0.9563\t19.735\t0.0000\tnan\t0.0000\tnan\t\n",
      "\u001b[1mEpoch [137]\u001b[0m\n",
      "BKGDLo\tBKMSEL\tTotal\tBK_dc\tBK_hd\tRV_dc\tRV_hd\tMYO_dc\tMYO_hd\tLV_dc\tLV_hd\t\n",
      "0.0232\t0.0095\t0.0327\t0.9823\t21.842\t0.9633\t19.321\t0.0000\tnan\t0.0000\tnan\t\n",
      "\u001b[1mEpoch [138]\u001b[0m\n",
      "BKGDLo\tBKMSEL\tTotal\tBK_dc\tBK_hd\tRV_dc\tRV_hd\tMYO_dc\tMYO_hd\tLV_dc\tLV_hd\t\n",
      "0.0260\t0.0101\t0.0361\t0.9865\t17.517\t0.9476\t20.382\t0.0000\tnan\t0.0000\tnan\t\n",
      "\u001b[1mEpoch [139]\u001b[0m\n",
      "BKGDLo\tBKMSEL\tTotal\tBK_dc\tBK_hd\tRV_dc\tRV_hd\tMYO_dc\tMYO_hd\tLV_dc\tLV_hd\t\n",
      "0.0219\t0.0089\t0.0308\t0.9892\t16.858\t0.9547\t19.901\t0.0000\tnan\t0.0000\tnan\t\n",
      "\u001b[1mEpoch [140]\u001b[0m\n",
      "BKGDLo\tBKMSEL\tTotal\tBK_dc\tBK_hd\tRV_dc\tRV_hd\tMYO_dc\tMYO_hd\tLV_dc\tLV_hd\t\n",
      "0.0211\t0.0087\t0.0297\t0.9896\t17.012\t0.9565\t19.633\t0.0000\tnan\t0.0000\tnan\t\n",
      "\u001b[1mEpoch [141]\u001b[0m\n",
      "BKGDLo\tBKMSEL\tTotal\tBK_dc\tBK_hd\tRV_dc\tRV_hd\tMYO_dc\tMYO_hd\tLV_dc\tLV_hd\t\n",
      "0.0221\t0.0092\t0.0313\t0.9887\t18.505\t0.9534\t19.950\t0.0000\tnan\t0.0000\tnan\t\n",
      "\u001b[1mEpoch [142]\u001b[0m\n",
      "BKGDLo\tBKMSEL\tTotal\tBK_dc\tBK_hd\tRV_dc\tRV_hd\tMYO_dc\tMYO_hd\tLV_dc\tLV_hd\t\n",
      "0.0241\t0.0099\t0.0340\t0.9872\t18.604\t0.9494\t20.120\t0.0000\tnan\t0.0000\tnan\t\n",
      "\u001b[1mEpoch [143]\u001b[0m\n",
      "BKGDLo\tBKMSEL\tTotal\tBK_dc\tBK_hd\tRV_dc\tRV_hd\tMYO_dc\tMYO_hd\tLV_dc\tLV_hd\t\n",
      "0.0235\t0.0096\t0.0332\t0.9861\t20.111\t0.9528\t20.102\t0.0000\tnan\t0.0000\tnan\t\n",
      "\u001b[1mEpoch [144]\u001b[0m\n",
      "BKGDLo\tBKMSEL\tTotal\tBK_dc\tBK_hd\tRV_dc\tRV_hd\tMYO_dc\tMYO_hd\tLV_dc\tLV_hd\t\n",
      "0.0344\t0.0132\t0.0475\t0.9797\t22.027\t0.9331\t22.148\t0.0000\tnan\t0.0000\tnan\t\n",
      "\u001b[1mEpoch [145]\u001b[0m\n",
      "BKGDLo\tBKMSEL\tTotal\tBK_dc\tBK_hd\tRV_dc\tRV_hd\tMYO_dc\tMYO_hd\tLV_dc\tLV_hd\t\n",
      "0.0219\t0.0088\t0.0307\t0.9881\t18.893\t0.9564\t19.492\t0.0000\tnan\t0.0000\tnan\t\n",
      "\u001b[1mEpoch [146]\u001b[0m\n",
      "BKGDLo\tBKMSEL\tTotal\tBK_dc\tBK_hd\tRV_dc\tRV_hd\tMYO_dc\tMYO_hd\tLV_dc\tLV_hd\t\n",
      "0.0211\t0.0084\t0.0294\t0.9902\t17.155\t0.9579\t19.578\t0.0000\tnan\t0.0000\tnan\t\n",
      "\u001b[1mEpoch [147]\u001b[0m\n",
      "BKGDLo\tBKMSEL\tTotal\tBK_dc\tBK_hd\tRV_dc\tRV_hd\tMYO_dc\tMYO_hd\tLV_dc\tLV_hd\t\n",
      "0.0209\t0.0086\t0.0295\t0.9898\t17.779\t0.9565\t19.473\t0.0000\tnan\t0.0000\tnan\t\n",
      "\u001b[1mEpoch [148]\u001b[0m\n",
      "BKGDLo\tBKMSEL\tTotal\tBK_dc\tBK_hd\tRV_dc\tRV_hd\tMYO_dc\tMYO_hd\tLV_dc\tLV_hd\t\n",
      "0.0210\t0.0086\t0.0295\t0.9884\t18.975\t0.9589\t19.497\t0.0000\tnan\t0.0000\tnan\t\n",
      "\u001b[1mEpoch [149]\u001b[0m\n",
      "BKGDLo\tBKMSEL\tTotal\tBK_dc\tBK_hd\tRV_dc\tRV_hd\tMYO_dc\tMYO_hd\tLV_dc\tLV_hd\t\n",
      "0.0200\t0.0082\t0.0282\t0.9905\t17.419\t0.9591\t19.647\t0.0000\tnan\t0.0000\tnan\t\n",
      "\u001b[1mEpoch [150]\u001b[0m\n",
      "BKGDLo\tBKMSEL\tTotal\tBK_dc\tBK_hd\tRV_dc\tRV_hd\tMYO_dc\tMYO_hd\tLV_dc\tLV_hd\t\n",
      "0.0206\t0.0084\t0.0290\t0.9898\t19.147\t0.9580\t19.092\t0.0000\tnan\t0.0000\tnan\t\n",
      "\u001b[1mEpoch [151]\u001b[0m\n",
      "BKGDLo\tBKMSEL\tTotal\tBK_dc\tBK_hd\tRV_dc\tRV_hd\tMYO_dc\tMYO_hd\tLV_dc\tLV_hd\t\n",
      "0.0224\t0.0092\t0.0316\t0.9880\t18.988\t0.9540\t19.540\t0.0000\tnan\t0.0000\tnan\t\n",
      "\u001b[1mEpoch [152]\u001b[0m\n",
      "BKGDLo\tBKMSEL\tTotal\tBK_dc\tBK_hd\tRV_dc\tRV_hd\tMYO_dc\tMYO_hd\tLV_dc\tLV_hd\t\n",
      "0.0228\t0.0088\t0.0316\t0.9889\t18.880\t0.9547\t20.003\t0.0000\tnan\t0.0000\tnan\t\n",
      "\u001b[1mEpoch [153]\u001b[0m\n",
      "BKGDLo\tBKMSEL\tTotal\tBK_dc\tBK_hd\tRV_dc\tRV_hd\tMYO_dc\tMYO_hd\tLV_dc\tLV_hd\t\n",
      "0.0207\t0.0083\t0.0290\t0.9903\t16.763\t0.9582\t19.627\t0.0000\tnan\t0.0000\tnan\t\n",
      "\u001b[1mEpoch [154]\u001b[0m\n",
      "BKGDLo\tBKMSEL\tTotal\tBK_dc\tBK_hd\tRV_dc\tRV_hd\tMYO_dc\tMYO_hd\tLV_dc\tLV_hd\t\n",
      "0.0205\t0.0083\t0.0288\t0.9902\t17.192\t0.9581\t19.753\t0.0000\tnan\t0.0000\tnan\t\n",
      "\u001b[1mEpoch [155]\u001b[0m\n",
      "BKGDLo\tBKMSEL\tTotal\tBK_dc\tBK_hd\tRV_dc\tRV_hd\tMYO_dc\tMYO_hd\tLV_dc\tLV_hd\t\n",
      "0.0216\t0.0087\t0.0303\t0.9895\t17.216\t0.9561\t19.737\t0.0000\tnan\t0.0000\tnan\t\n",
      "\u001b[1mEpoch [156]\u001b[0m\n",
      "BKGDLo\tBKMSEL\tTotal\tBK_dc\tBK_hd\tRV_dc\tRV_hd\tMYO_dc\tMYO_hd\tLV_dc\tLV_hd\t\n",
      "0.0227\t0.0094\t0.0321\t0.9884\t17.009\t0.9520\t20.064\t0.0000\tnan\t0.0000\tnan\t\n",
      "\u001b[1mEpoch [157]\u001b[0m\n",
      "BKGDLo\tBKMSEL\tTotal\tBK_dc\tBK_hd\tRV_dc\tRV_hd\tMYO_dc\tMYO_hd\tLV_dc\tLV_hd\t\n",
      "0.0243\t0.0102\t0.0345\t0.9840\t20.095\t0.9537\t19.643\t0.0000\tnan\t0.0000\tnan\t\n",
      "\u001b[1mEpoch [158]\u001b[0m\n",
      "BKGDLo\tBKMSEL\tTotal\tBK_dc\tBK_hd\tRV_dc\tRV_hd\tMYO_dc\tMYO_hd\tLV_dc\tLV_hd\t\n",
      "0.0240\t0.0099\t0.0339\t0.9869\t19.349\t0.9500\t19.812\t0.0000\tnan\t0.0000\tnan\t\n",
      "\u001b[1mEpoch [159]\u001b[0m\n",
      "BKGDLo\tBKMSEL\tTotal\tBK_dc\tBK_hd\tRV_dc\tRV_hd\tMYO_dc\tMYO_hd\tLV_dc\tLV_hd\t\n",
      "0.0235\t0.0096\t0.0332\t0.9850\t20.202\t0.9553\t19.411\t0.0000\tnan\t0.0000\tnan\t\n",
      "\u001b[1mEpoch [160]\u001b[0m\n",
      "BKGDLo\tBKMSEL\tTotal\tBK_dc\tBK_hd\tRV_dc\tRV_hd\tMYO_dc\tMYO_hd\tLV_dc\tLV_hd\t\n",
      "0.0209\t0.0085\t0.0294\t0.9896\t19.168\t0.9572\t19.569\t0.0000\tnan\t0.0000\tnan\t\n",
      "\u001b[1mEpoch [161]\u001b[0m\n",
      "BKGDLo\tBKMSEL\tTotal\tBK_dc\tBK_hd\tRV_dc\tRV_hd\tMYO_dc\tMYO_hd\tLV_dc\tLV_hd\t\n",
      "0.0204\t0.0082\t0.0286\t0.9887\t19.074\t0.9616\t19.285\t0.0000\tnan\t0.0000\tnan\t\n",
      "\u001b[1mEpoch [162]\u001b[0m\n",
      "BKGDLo\tBKMSEL\tTotal\tBK_dc\tBK_hd\tRV_dc\tRV_hd\tMYO_dc\tMYO_hd\tLV_dc\tLV_hd\t\n",
      "0.0197\t0.0080\t0.0278\t0.9907\t18.649\t0.9595\t19.526\t0.0000\tnan\t0.0000\tnan\t\n",
      "\u001b[1mEpoch [163]\u001b[0m\n",
      "BKGDLo\tBKMSEL\tTotal\tBK_dc\tBK_hd\tRV_dc\tRV_hd\tMYO_dc\tMYO_hd\tLV_dc\tLV_hd\t\n",
      "0.0213\t0.0087\t0.0301\t0.9870\t18.989\t0.9602\t18.504\t0.0000\tnan\t0.0000\tnan\t\n",
      "\u001b[1mEpoch [164]\u001b[0m\n",
      "BKGDLo\tBKMSEL\tTotal\tBK_dc\tBK_hd\tRV_dc\tRV_hd\tMYO_dc\tMYO_hd\tLV_dc\tLV_hd\t\n",
      "0.0244\t0.0100\t0.0343\t0.9854\t19.348\t0.9514\t19.848\t0.0000\tnan\t0.0000\tnan\t\n",
      "\u001b[1mEpoch [165]\u001b[0m\n",
      "BKGDLo\tBKMSEL\tTotal\tBK_dc\tBK_hd\tRV_dc\tRV_hd\tMYO_dc\tMYO_hd\tLV_dc\tLV_hd\t\n",
      "0.0225\t0.0092\t0.0317\t0.9886\t17.154\t0.9534\t19.563\t0.0000\tnan\t0.0000\tnan\t\n",
      "\u001b[1mEpoch [166]\u001b[0m\n",
      "BKGDLo\tBKMSEL\tTotal\tBK_dc\tBK_hd\tRV_dc\tRV_hd\tMYO_dc\tMYO_hd\tLV_dc\tLV_hd\t\n",
      "0.0211\t0.0087\t0.0298\t0.9855\t20.049\t0.9642\t18.657\t0.0000\tnan\t0.0000\tnan\t\n",
      "\u001b[1mEpoch [167]\u001b[0m\n",
      "BKGDLo\tBKMSEL\tTotal\tBK_dc\tBK_hd\tRV_dc\tRV_hd\tMYO_dc\tMYO_hd\tLV_dc\tLV_hd\t\n",
      "0.0234\t0.0096\t0.0329\t0.9877\t17.347\t0.9514\t19.773\t0.0000\tnan\t0.0000\tnan\t\n"
     ]
    }
   ],
   "source": [
    "upload_your_own_parameters = False\n",
    "\n",
    "if upload_your_own_parameters:\n",
    "    optimal_parameters = np.load(os.path.join(\"data/liver/preprocessed\", \"optimal_parameters.npy\"), allow_pickle=True).item()\n",
    "else:\n",
    "    optimal_parameters = {\n",
    "        \"BATCH_SIZE\": 8,\n",
    "        \"DA\": False,\n",
    "        \"latent_size\": 100,\n",
    "        \"optimizer\": torch.optim.Adam,\n",
    "        \"lr\": 2e-4,\n",
    "        \"weight_decay\": 1e-5,\n",
    "        \"functions\": [\"BKGDLoss\", \"BKMSELoss\"],\n",
    "        \"settling_epochs_BKGDLoss\": 10,\n",
    "        \"settling_epochs_BKMSELoss\": 0\n",
    "    }\n",
    "    np.save(os.path.join(\"data/liver/preprocessed/\", \"optimal_parameters\"), optimal_parameters)\n",
    "\n",
    "assert optimal_parameters is not None, \"Be sure to continue with a working set of hyperparameters\"\n",
    "\n",
    "BATCH_SIZE = optimal_parameters[\"BATCH_SIZE\"]\n",
    "DA = optimal_parameters[\"DA\"]\n",
    "\n",
    "train_ids = np.load('./data/liver/saved_ids.npy', allow_pickle=True).item().get('train_ids')\n",
    "val_ids = np.load('./data/liver/saved_ids.npy', allow_pickle=True).item().get('val_ids')\n",
    "ae = AE(**optimal_parameters).to(device)\n",
    "\n",
    "ckpt = \"data/liver/checkpoints/099_best.pth\"\n",
    "if ckpt is not None:\n",
    "    ckpt = torch.load(ckpt)\n",
    "    ae.load_state_dict(ckpt[\"AE\"])\n",
    "    ae.optimizer.load_state_dict(ckpt[\"AE_optim\"])\n",
    "    start = ckpt[\"epoch\"]+1\n",
    "else:\n",
    "    start = 0\n",
    "\n",
    "print(ae)\n",
    "\n",
    "plot_history(\n",
    "    ae.training_routine(\n",
    "        range(start,500),\n",
    "        SYNDalaLoader(\"data/liver/preprocessed/\", patient_ids=train_ids, batch_size=BATCH_SIZE, transform=transform_augmentation if DA else transform),\n",
    "        SYNDalaLoader(\"data/liver/preprocessed/\", patient_ids=val_ids, batch_size=BATCH_SIZE, transform=transform),\n",
    "        \"data/liver/checkpoints/\"\n",
    "    )\n",
    ")"
   ]
  },
  {
   "cell_type": "markdown",
   "metadata": {},
   "source": [
    "## Testing"
   ]
  },
  {
   "cell_type": "code",
   "execution_count": 1,
   "metadata": {},
   "outputs": [
    {
     "name": "stderr",
     "output_type": "stream",
     "text": [
      "/home/thiry/quality_control_CMR/.venv/lib/python3.8/site-packages/tqdm/auto.py:22: TqdmWarning: IProgress not found. Please update jupyter and ipywidgets. See https://ipywidgets.readthedocs.io/en/stable/user_install.html\n",
      "  from .autonotebook import tqdm as notebook_tqdm\n"
     ]
    }
   ],
   "source": [
    "import os\n",
    "import numpy as np\n",
    "import torch\n",
    "import nibabel as nib\n",
    "import torchvision\n",
    "import tqdm\n",
    "\n",
    "from CA import AE\n",
    "from utils import postprocess_image_brain, evaluate_metrics, testing_brain, median_spacing_target\n",
    "from utils import display_image, display_difference, process_results, display_plots, SYNDalaLoader\n",
    "from utils import AddPadding, CenterCrop, OneHot, ToTensor, MirrorTransform, SpatialTransform\n",
    "device = torch.device(\"cuda\" if torch.cuda.is_available() else \"cpu\")"
   ]
  },
  {
   "cell_type": "code",
   "execution_count": 2,
   "metadata": {},
   "outputs": [],
   "source": [
    "transform = torchvision.transforms.Compose([\n",
    "    AddPadding((256,256)),\n",
    "    CenterCrop((256,256)),\n",
    "    OneHot(),\n",
    "    ToTensor()\n",
    "])\n",
    "transform_augmentation = torchvision.transforms.Compose([\n",
    "    MirrorTransform(),\n",
    "    SpatialTransform(patch_size=(256,256), angle_x=(-np.pi/6,np.pi/6), scale=(0.7,1.4), random_crop=True),\n",
    "    OneHot(),\n",
    "    ToTensor()\n",
    "])"
   ]
  },
  {
   "cell_type": "code",
   "execution_count": 3,
   "metadata": {},
   "outputs": [
    {
     "name": "stdout",
     "output_type": "stream",
     "text": [
      "Chosen checkpoint is 496_best.pth .\n",
      "###################################\n"
     ]
    },
    {
     "data": {
      "text/plain": [
       "AE(\n",
       "  (encoder): Sequential(\n",
       "    (0): Conv2d(4, 32, kernel_size=(4, 4), stride=(2, 2), padding=(1, 1))\n",
       "    (1): BatchNorm2d(32, eps=1e-05, momentum=0.1, affine=True, track_running_stats=True)\n",
       "    (2): LeakyReLU(negative_slope=0.2)\n",
       "    (3): Dropout(p=0.5, inplace=False)\n",
       "    (4): Conv2d(32, 32, kernel_size=(4, 4), stride=(2, 2), padding=(1, 1))\n",
       "    (5): BatchNorm2d(32, eps=1e-05, momentum=0.1, affine=True, track_running_stats=True)\n",
       "    (6): LeakyReLU(negative_slope=0.2)\n",
       "    (7): Dropout(p=0.5, inplace=False)\n",
       "    (8): Conv2d(32, 32, kernel_size=(4, 4), stride=(2, 2), padding=(1, 1))\n",
       "    (9): BatchNorm2d(32, eps=1e-05, momentum=0.1, affine=True, track_running_stats=True)\n",
       "    (10): LeakyReLU(negative_slope=0.2)\n",
       "    (11): Dropout(p=0.5, inplace=False)\n",
       "    (12): Conv2d(32, 32, kernel_size=(3, 3), stride=(1, 1), padding=(1, 1))\n",
       "    (13): BatchNorm2d(32, eps=1e-05, momentum=0.1, affine=True, track_running_stats=True)\n",
       "    (14): LeakyReLU(negative_slope=0.2)\n",
       "    (15): Dropout(p=0.5, inplace=False)\n",
       "    (16): Conv2d(32, 64, kernel_size=(4, 4), stride=(2, 2), padding=(1, 1))\n",
       "    (17): BatchNorm2d(64, eps=1e-05, momentum=0.1, affine=True, track_running_stats=True)\n",
       "    (18): LeakyReLU(negative_slope=0.2)\n",
       "    (19): Dropout(p=0.5, inplace=False)\n",
       "    (20): Conv2d(64, 64, kernel_size=(3, 3), stride=(1, 1), padding=(1, 1))\n",
       "    (21): BatchNorm2d(64, eps=1e-05, momentum=0.1, affine=True, track_running_stats=True)\n",
       "    (22): LeakyReLU(negative_slope=0.2)\n",
       "    (23): Dropout(p=0.5, inplace=False)\n",
       "    (24): Conv2d(64, 128, kernel_size=(4, 4), stride=(2, 2), padding=(1, 1))\n",
       "    (25): BatchNorm2d(128, eps=1e-05, momentum=0.1, affine=True, track_running_stats=True)\n",
       "    (26): LeakyReLU(negative_slope=0.2)\n",
       "    (27): Dropout(p=0.5, inplace=False)\n",
       "    (28): Conv2d(128, 64, kernel_size=(3, 3), stride=(1, 1), padding=(1, 1))\n",
       "    (29): BatchNorm2d(64, eps=1e-05, momentum=0.1, affine=True, track_running_stats=True)\n",
       "    (30): LeakyReLU(negative_slope=0.2)\n",
       "    (31): Dropout(p=0.5, inplace=False)\n",
       "    (32): Conv2d(64, 32, kernel_size=(3, 3), stride=(1, 1), padding=(1, 1))\n",
       "    (33): BatchNorm2d(32, eps=1e-05, momentum=0.1, affine=True, track_running_stats=True)\n",
       "    (34): LeakyReLU(negative_slope=0.2)\n",
       "    (35): Dropout(p=0.5, inplace=False)\n",
       "    (36): Conv2d(32, 100, kernel_size=(4, 4), stride=(2, 2), padding=(1, 1))\n",
       "  )\n",
       "  (decoder): Sequential(\n",
       "    (0): ConvTranspose2d(100, 32, kernel_size=(4, 4), stride=(2, 2), padding=(1, 1))\n",
       "    (1): BatchNorm2d(32, eps=1e-05, momentum=0.1, affine=True, track_running_stats=True)\n",
       "    (2): LeakyReLU(negative_slope=0.2)\n",
       "    (3): Dropout(p=0.5, inplace=False)\n",
       "    (4): ConvTranspose2d(32, 64, kernel_size=(3, 3), stride=(1, 1), padding=(1, 1))\n",
       "    (5): BatchNorm2d(64, eps=1e-05, momentum=0.1, affine=True, track_running_stats=True)\n",
       "    (6): LeakyReLU(negative_slope=0.2)\n",
       "    (7): Dropout(p=0.5, inplace=False)\n",
       "    (8): ConvTranspose2d(64, 128, kernel_size=(3, 3), stride=(1, 1), padding=(1, 1))\n",
       "    (9): BatchNorm2d(128, eps=1e-05, momentum=0.1, affine=True, track_running_stats=True)\n",
       "    (10): LeakyReLU(negative_slope=0.2)\n",
       "    (11): Dropout(p=0.5, inplace=False)\n",
       "    (12): ConvTranspose2d(128, 64, kernel_size=(4, 4), stride=(2, 2), padding=(1, 1))\n",
       "    (13): BatchNorm2d(64, eps=1e-05, momentum=0.1, affine=True, track_running_stats=True)\n",
       "    (14): LeakyReLU(negative_slope=0.2)\n",
       "    (15): Dropout(p=0.5, inplace=False)\n",
       "    (16): ConvTranspose2d(64, 64, kernel_size=(3, 3), stride=(1, 1), padding=(1, 1))\n",
       "    (17): BatchNorm2d(64, eps=1e-05, momentum=0.1, affine=True, track_running_stats=True)\n",
       "    (18): LeakyReLU(negative_slope=0.2)\n",
       "    (19): Dropout(p=0.5, inplace=False)\n",
       "    (20): ConvTranspose2d(64, 32, kernel_size=(4, 4), stride=(2, 2), padding=(1, 1))\n",
       "    (21): BatchNorm2d(32, eps=1e-05, momentum=0.1, affine=True, track_running_stats=True)\n",
       "    (22): LeakyReLU(negative_slope=0.2)\n",
       "    (23): Dropout(p=0.5, inplace=False)\n",
       "    (24): ConvTranspose2d(32, 32, kernel_size=(3, 3), stride=(1, 1), padding=(1, 1))\n",
       "    (25): BatchNorm2d(32, eps=1e-05, momentum=0.1, affine=True, track_running_stats=True)\n",
       "    (26): LeakyReLU(negative_slope=0.2)\n",
       "    (27): Dropout(p=0.5, inplace=False)\n",
       "    (28): ConvTranspose2d(32, 32, kernel_size=(4, 4), stride=(2, 2), padding=(1, 1))\n",
       "    (29): BatchNorm2d(32, eps=1e-05, momentum=0.1, affine=True, track_running_stats=True)\n",
       "    (30): LeakyReLU(negative_slope=0.2)\n",
       "    (31): Dropout(p=0.5, inplace=False)\n",
       "    (32): ConvTranspose2d(32, 32, kernel_size=(4, 4), stride=(2, 2), padding=(1, 1))\n",
       "    (33): BatchNorm2d(32, eps=1e-05, momentum=0.1, affine=True, track_running_stats=True)\n",
       "    (34): LeakyReLU(negative_slope=0.2)\n",
       "    (35): Dropout(p=0.5, inplace=False)\n",
       "    (36): ConvTranspose2d(32, 4, kernel_size=(4, 4), stride=(2, 2), padding=(1, 1))\n",
       "    (37): Softmax(dim=1)\n",
       "  )\n",
       ")"
      ]
     },
     "execution_count": 3,
     "metadata": {},
     "output_type": "execute_result"
    }
   ],
   "source": [
    "optimal_parameters = np.load(os.path.join(\"data/liver/preprocessed\", \"optimal_parameters.npy\"), allow_pickle=True).item()\n",
    "assert optimal_parameters is not None, \"Be sure to continue with a working set of hyperparameters\"\n",
    "\n",
    "ae = AE(**optimal_parameters).to(device)\n",
    "ae.load_checkpoint('data/brain/')"
   ]
  },
  {
   "cell_type": "code",
   "execution_count": null,
   "metadata": {},
   "outputs": [],
   "source": [
    "patient_info = np.load(\"data/brain/preprocessed/patient_info.npy\", allow_pickle=True).item()\n",
    "current_spacing = median_spacing_target(\"data/brain/preprocessed/\", 2)\n",
    "test_ids = np.load('./data/brain/saved_ids.npy', allow_pickle=True).item().get('test_ids')"
   ]
  },
  {
   "cell_type": "code",
   "execution_count": 21,
   "metadata": {},
   "outputs": [],
   "source": [
    "test_loader = SYNDalaLoader(data_path=\"data/liver\", mode='test', batch_size=BATCH_SIZE, transform=transform)\n",
    "\n",
    "_ = testing_brain(\n",
    "    ae=ae, test_loader=test_loader,\n",
    "    patient_info=patient_info, \n",
    "    folder_predictions=\"data/liver/structured/\", folder_out=\"data/liver/reconstructions\", \n",
    "    current_spacing=current_spacing,\n",
    "    compute_results=False)\n"
   ]
  },
  {
   "cell_type": "markdown",
   "metadata": {},
   "source": [
    "# Analysis\n",
    "## General"
   ]
  },
  {
   "cell_type": "code",
   "execution_count": null,
   "metadata": {},
   "outputs": [],
   "source": [
    "from utils import generate_testing_set, compute_results, plot_results\n",
    "from model import alter_image\n",
    "from utils import plot_results\n",
    "\n",
    "generate_testing_set(ae=ae, data_path= 'data/liver', alter_image = alter_image, transform = transform)"
   ]
  },
  {
   "cell_type": "code",
   "execution_count": 24,
   "metadata": {},
   "outputs": [],
   "source": [
    "results = compute_results(data_path='data/liver/', measures='both')"
   ]
  },
  {
   "cell_type": "code",
   "execution_count": 25,
   "metadata": {},
   "outputs": [],
   "source": [
    "np.save(os.path.join('data/liver/', 'results.npy'), results)"
   ]
  },
  {
   "cell_type": "code",
   "execution_count": 26,
   "metadata": {},
   "outputs": [
    {
     "data": {
      "image/png": "[encoded data removed]",
      "text/plain": [
       "<Figure size 640x480 with 2 Axes>"
      ]
     },
     "metadata": {},
     "output_type": "display_data"
    }
   ],
   "source": [
    "plot_results(results)"
   ]
  },
  {
   "cell_type": "markdown",
   "metadata": {},
   "source": [
    "## Single Patient"
   ]
  },
  {
   "cell_type": "code",
   "execution_count": 9,
   "metadata": {},
   "outputs": [],
   "source": [
    "import nibabel as nib\n",
    "import numpy as np\n",
    "\n",
    "from utils import display_image, display_difference"
   ]
  },
  {
   "cell_type": "code",
   "execution_count": 47,
   "metadata": {},
   "outputs": [
    {
     "name": "stdout",
     "output_type": "stream",
     "text": [
      "Selected patient is Patient N°101\n"
     ]
    }
   ],
   "source": [
    "test_ids = test_ids = np.load('./data/liver/saved_ids.npy', allow_pickle=True).item().get('test_ids')\n",
    "patient_id = int(np.random.choice(test_ids, size = 1))\n",
    "print(f\"Selected patient is Patient N°{patient_id:03d}\")\n",
    "\n",
    "prediction = nib.load(\"data/liver/structured/patient{:03d}/mask.nii.gz\".format(patient_id)).get_fdata()[:,:,:].transpose(2, 1, 0)\n",
    "reconstruction = np.round(nib.load(\"data/liver/reconstructions/patient{:03d}/mask.nii.gz\".format(patient_id)).get_fdata().transpose(2, 1, 0),2)\n",
    "\n",
    "mid_frame = np.argmax([np.average(prediction[i]) for i in range (prediction.shape[0] -1 )])"
   ]
  },
  {
   "cell_type": "code",
   "execution_count": 48,
   "metadata": {},
   "outputs": [
    {
     "data": {
      "image/png": "[encoded data removed]",
      "text/plain": [
       "<PIL.Image.Image image mode=L size=512x512>"
      ]
     },
     "metadata": {},
     "output_type": "display_data"
    }
   ],
   "source": [
    "display_image(prediction[mid_frame])"
   ]
  },
  {
   "cell_type": "code",
   "execution_count": 49,
   "metadata": {},
   "outputs": [
    {
     "data": {
      "image/png": "[encoded data removed]",
      "text/plain": [
       "<PIL.Image.Image image mode=L size=512x512>"
      ]
     },
     "metadata": {},
     "output_type": "display_data"
    }
   ],
   "source": [
    "display_image(reconstruction[mid_frame])"
   ]
  },
  {
   "cell_type": "code",
   "execution_count": 50,
   "metadata": {},
   "outputs": [
    {
     "data": {
      "image/png": "[encoded data removed]",
      "text/plain": [
       "<PIL.Image.Image image mode=RGB size=512x512>"
      ]
     },
     "metadata": {},
     "output_type": "display_data"
    }
   ],
   "source": [
    "display_difference(reconstruction[mid_frame], prediction[mid_frame])"
   ]
  }
 ],
 "metadata": {
  "kernelspec": {
   "display_name": "Python 3 (ipykernel)",
   "language": "python",
   "name": "python3"
  },
  "language_info": {
   "codemirror_mode": {
    "name": "ipython",
    "version": 3
   },
   "file_extension": ".py",
   "mimetype": "text/x-python",
   "name": "python",
   "nbconvert_exporter": "python",
   "pygments_lexer": "ipython3",
   "version": "3.8.10"
  },
  "vscode": {
   "interpreter": {
    "hash": "26d733a98facd73c2412bf9332d44f71a6215b75d7e140b7f3987c8b99d7cfb5"
   }
  }
 },
 "nbformat": 4,
 "nbformat_minor": 2
}
