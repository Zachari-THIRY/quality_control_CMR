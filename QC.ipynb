{
 "cells": [
  {
   "cell_type": "markdown",
   "metadata": {
    "id": "qbXF7MRgnfvB"
   },
   "source": [
    "# Model Monitoring for Cardiac Image Segmentation"
   ]
  },
  {
   "cell_type": "code",
   "execution_count": 1,
   "metadata": {
    "colab": {
     "base_uri": "https://localhost:8080/"
    },
    "id": "GclE54X-pk8d",
    "outputId": "12f442d4-3b16-4dcb-9e3f-db8b3543f594"
   },
   "outputs": [
    {
     "name": "stdout",
     "output_type": "stream",
     "text": [
      "GPU 0: NVIDIA TITAN Xp (UUID: GPU-213e830e-812c-d8af-3404-f3b75c03543e)\n"
     ]
    }
   ],
   "source": [
    "!nvidia-smi -L"
   ]
  },
  {
   "cell_type": "code",
   "execution_count": 2,
   "metadata": {
    "id": "BjeEPud0PKpW"
   },
   "outputs": [],
   "source": [
    "import random\n",
    "import numpy as np\n",
    "import torch\n",
    "\n",
    "random.seed(0)\n",
    "np.random.seed(0)\n",
    "torch.manual_seed(0)\n",
    "torch.cuda.manual_seed(0)\n",
    "torch.cuda.manual_seed_all(0)\n",
    "torch.backends.cudnn.deterministic = True\n",
    "torch.backends.cudnn.benchmark = False"
   ]
  },
  {
   "cell_type": "markdown",
   "metadata": {
    "id": "3JDznSZY9fyQ"
   },
   "source": [
    "## Install requirements"
   ]
  },
  {
   "cell_type": "markdown",
   "metadata": {
    "id": "SoUFHZx8qLje"
   },
   "source": [
    "#### batchgenerators"
   ]
  },
  {
   "cell_type": "code",
   "execution_count": null,
   "metadata": {
    "colab": {
     "base_uri": "https://localhost:8080/",
     "height": 0
    },
    "id": "YMpIgch7p2ks",
    "outputId": "465c21fb-4bb9-4296-d290-bbe93dd543e6"
   },
   "outputs": [],
   "source": [
    "%pip install --upgrade batchgenerators"
   ]
  },
  {
   "cell_type": "markdown",
   "metadata": {
    "id": "7PBZD5rJBLw2"
   },
   "source": [
    "#### medpy"
   ]
  },
  {
   "cell_type": "code",
   "execution_count": null,
   "metadata": {
    "colab": {
     "base_uri": "https://localhost:8080/"
    },
    "id": "app4iyyBgQRL",
    "outputId": "10ead4a8-808a-46f1-b9aa-7d75aea8d3d7"
   },
   "outputs": [],
   "source": [
    "%pip install medpy"
   ]
  },
  {
   "cell_type": "markdown",
   "metadata": {
    "id": "l1f_kgr-BNmb"
   },
   "source": [
    "#### nibabel"
   ]
  },
  {
   "cell_type": "code",
   "execution_count": null,
   "metadata": {
    "colab": {
     "base_uri": "https://localhost:8080/"
    },
    "id": "app4iyyBgQRS",
    "outputId": "8e118ece-d557-46e9-aebb-e4377240cb5a"
   },
   "outputs": [],
   "source": [
    "%pip install nibabel"
   ]
  },
  {
   "cell_type": "markdown",
   "metadata": {
    "id": "x_ybwFnEnm5y"
   },
   "source": [
    "## Import data\n",
    "### Heart segmentation"
   ]
  },
  {
   "cell_type": "code",
   "execution_count": 10,
   "metadata": {
    "id": "YbjizU383MDS"
   },
   "outputs": [],
   "source": [
    "import os\n",
    "\n",
    "# TODO : have a clearner way of handling the \"/\"\n",
    "def get_download_model_command(file_id, file_name, directory):\n",
    "    save_path= os.path.join(os.getcwd(),directory)\n",
    "    url = r\"\"\"wget --load-cookies /tmp/cookies.txt \"https://docs.google.com/uc?export=download&confirm=$(wget --quiet --save-cookies /tmp/cookies.txt --keep-session-cookies --no-check-certificate 'https://docs.google.com/uc?export=download&id={FILE_ID}' -O- | sed -rn 's/.*confirm=([0-9A-Za-z_]+).*/\\1\\n/p')&id={FILE_ID}\" -O {SAVE_PATH}/{FILE_NAME} && rm -rf /tmp/cookies.txt\"\"\".format(FILE_ID=file_id, FILE_NAME=file_name, SAVE_PATH=save_path)\n",
    "    return url"
   ]
  },
  {
   "cell_type": "code",
   "execution_count": null,
   "metadata": {
    "colab": {
     "base_uri": "https://localhost:8080/"
    },
    "id": "KCT8l7vG3eGo",
    "outputId": "bbb55034-3b78-4260-855e-61a38d9844cb"
   },
   "outputs": [],
   "source": [
    "MODEL_PATHS = {\n",
    "    \"training\": {\"id\": \"1bxRj0zf-iMooYA4jUZS_zS4VD9NLYxE4\", \"name\": \"training.zip\"},\n",
    "    \"testing\": {\"id\": \"1L84oEmgc2Nd10bCBlaM7vkbl7nhrYC9I\", \"name\": \"testing.zip\"},\n",
    "    \"predictions\": {\"id\": \"1P2kNGllKUKmumaCM2IsqgIgRPAKEXa59\", \"name\": \"predictions.zip\"},\n",
    "    \"measures\": {\"id\": \"1ss-qGFEocJT-h3JAebcDjeWBQXcxPs0T\", \"name\": \"measures.zip\"}\n",
    "}\n",
    "\n",
    "if not os.path.exists(\"./data/heart\") :\n",
    "    os.mkdir('./data/heart')\n",
    "    for path in MODEL_PATHS.values():\n",
    "        download_command = get_download_model_command(file_id=path[\"id\"], file_name=path[\"name\"], directory=\"data/heart\")\n",
    "        !{download_command}\n"
   ]
  },
  {
   "cell_type": "code",
   "execution_count": 8,
   "metadata": {
    "id": "0kuWwMhy9WaD"
   },
   "outputs": [],
   "source": [
    "if not os.path.exists('./data/heart/training'):\n",
    "    unzip_command=\"\"\"unzip -q data/heart/training.zip -d data/heart\"\"\"\n",
    "    !{unzip_command}"
   ]
  },
  {
   "cell_type": "code",
   "execution_count": 7,
   "metadata": {
    "id": "T5b33FKK9N41"
   },
   "outputs": [],
   "source": [
    "if not os.path.exists('./data/heart/testing'):\n",
    "    unzip_command=\"\"\"unzip -q data/heart/testing.zip -d data/heart/\"\"\"\n",
    "    remove_extended_tree=\"\"\"mv data/heart/testing/testing data/tmp && rm -r data/heart/testing && mv data/tmp data/heart/testing\"\"\"\n",
    "    !{unzip_command}\n",
    "    !{remove_extended_tree}"
   ]
  },
  {
   "cell_type": "code",
   "execution_count": 6,
   "metadata": {
    "id": "g3lUB97I9N79"
   },
   "outputs": [],
   "source": [
    "if not os.path.exists('./data/heart/predictions'):\n",
    "    unzip_command=\"\"\"unzip -q data/heart/predictions.zip -d data/heart\"\"\"\n",
    "    !{unzip_command}"
   ]
  },
  {
   "cell_type": "code",
   "execution_count": 5,
   "metadata": {
    "id": "b2XvMtPFmzVI"
   },
   "outputs": [],
   "source": [
    "if not os.path.exists('./data/heart/measures'):\n",
    "    unzip_command=\"\"\"unzip -q data/heart/measures.zip -d data/heart\"\"\"\n",
    "    !{unzip_command}"
   ]
  },
  {
   "cell_type": "markdown",
   "metadata": {},
   "source": [
    "### Brain segmentation"
   ]
  },
  {
   "cell_type": "code",
   "execution_count": 23,
   "metadata": {},
   "outputs": [],
   "source": [
    "# TODO : Extract part of the function\n",
    "\n",
    "def downloadBrainData(relPath = \"./data/brain\", customUrl = None):\n",
    "    download_command = \"wget https://surfer.nmr.mgh.harvard.edu/ftp/dist/freesurfer/synthstrip/synthstrip_data_v1.2.tar.gz\"\n",
    "    if relPath is not None:\n",
    "        download_command += \" -P {}\".format(relPath)\n",
    "    \n",
    "    !{download_command}\n",
    "    \n"
   ]
  },
  {
   "cell_type": "code",
   "execution_count": null,
   "metadata": {},
   "outputs": [],
   "source": [
    "downloadBrainData()"
   ]
  },
  {
   "cell_type": "code",
   "execution_count": null,
   "metadata": {},
   "outputs": [],
   "source": [
    "extract_command = \"tar -xf {REL_PATH}/synthstrip_data_v1.2.tar.gz -C {REL_PATH}/\".format(REL_PATH='./data/brain')\n",
    "!{extract_command}"
   ]
  },
  {
   "cell_type": "markdown",
   "metadata": {
    "id": "_TwrAQeLyuc5"
   },
   "source": [
    "## Data preparation"
   ]
  },
  {
   "cell_type": "code",
   "execution_count": 3,
   "metadata": {
    "id": "HPNK9Fv0iBDV"
   },
   "outputs": [],
   "source": [
    "import os\n",
    "import numpy as np\n",
    "from utils import generate_patient_info, preprocess"
   ]
  },
  {
   "cell_type": "code",
   "execution_count": 2,
   "metadata": {
    "id": "j5Qxqfor9lRQ"
   },
   "outputs": [],
   "source": [
    "patient_info = generate_patient_info(\"data/heart/training/\", patient_ids=range(1, 101))\n",
    "patient_info = {**patient_info, **generate_patient_info(\"data/heart/testing/\", patient_ids=range(101, 151))}\n",
    "\n",
    "if not os.path.exists(\"preprocessed/\"):\n",
    "    os.makedirs(\"preprocessed/\")\n",
    "np.save(os.path.join(\"preprocessed/\", \"patient_info\"), patient_info)"
   ]
  },
  {
   "cell_type": "code",
   "execution_count": null,
   "metadata": {},
   "outputs": [],
   "source": []
  },
  {
   "cell_type": "code",
   "execution_count": 11,
   "metadata": {
    "id": "JpFEcRs39LCR"
   },
   "outputs": [],
   "source": [
    "#spacings = [patient_info[id][\"spacing\"] for id in range(1, 101)]\n",
    "#spacing_target = np.percentile(np.vstack(spacings), 50, 0)\n",
    "spacing_target = [10, 1.25, 1.25]\n",
    "\n",
    "if not os.path.exists(\"preprocessed/training/\"):\n",
    "    os.makedirs(\"preprocessed/training/\")\n",
    "preprocess(\n",
    "    range(1,101), patient_info, spacing_target,\n",
    "    \"data/training\", \"preprocessed/training\",\n",
    "    lambda folder, id: os.path.join(folder, 'patient{:03d}'.format(id)),\n",
    "    lambda patient_info, id, phase: \"patient{:03d}_frame{:02d}_gt.nii.gz\".format(id, patient_info[id][phase])\n",
    ")"
   ]
  },
  {
   "cell_type": "code",
   "execution_count": 12,
   "metadata": {
    "id": "0zGSKBxAHBX8"
   },
   "outputs": [],
   "source": [
    "for model in os.listdir(\"data/predictions/\"):\n",
    "    if not os.path.exists(\"preprocessed/predictions/{}\".format(model)):\n",
    "        os.makedirs(\"preprocessed/predictions/{}\".format(model))\n",
    "    preprocess(\n",
    "        range(101,151), patient_info, spacing_target,\n",
    "        \"data/predictions/{}\".format(model), \"preprocessed/predictions/{}\".format(model),\n",
    "        lambda folder, id: folder,\n",
    "        lambda patient_info, id, phase: \"patient{:03d}_{}.nii.gz\".format(id,phase)\n",
    "    ) "
   ]
  },
  {
   "cell_type": "markdown",
   "metadata": {
    "id": "L0X1z83HHrfU"
   },
   "source": [
    "## Dataset"
   ]
  },
  {
   "cell_type": "code",
   "execution_count": 7,
   "metadata": {
    "id": "SjOw77uj9sdd"
   },
   "outputs": [],
   "source": [
    "import os\n",
    "import numpy as np\n",
    "import random\n",
    "import torchvision\n",
    "from utils import AddPadding, CenterCrop, OneHot, ToTensor, MirrorTransform, SpatialTransform"
   ]
  },
  {
   "cell_type": "code",
   "execution_count": 8,
   "metadata": {
    "id": "EY_oEIvtHyTS"
   },
   "outputs": [],
   "source": [
    "ids = random.sample(range(1, 101), 100)\n",
    "train_ids = ids[:80]\n",
    "val_ids = ids[80:]\n",
    "\n",
    "transform = torchvision.transforms.Compose([\n",
    "    AddPadding((256,256)),\n",
    "    CenterCrop((256,256)),\n",
    "    OneHot(),\n",
    "    ToTensor()\n",
    "])\n",
    "transform_augmentation = torchvision.transforms.Compose([\n",
    "    MirrorTransform(),\n",
    "    SpatialTransform(patch_size=(256,256), angle_x=(-np.pi/6,np.pi/6), scale=(0.7,1.4), random_crop=True),\n",
    "    OneHot(),\n",
    "    ToTensor()\n",
    "])"
   ]
  },
  {
   "cell_type": "code",
   "execution_count": 11,
   "metadata": {},
   "outputs": [
    {
     "name": "stdout",
     "output_type": "stream",
     "text": [
      "[87, 97, 17, 20, 5, 11, 90, 70, 88, 51, 68, 36, 67, 31, 28, 76, 54, 75, 89, 58, 64, 46, 95, 42, 15, 63, 43, 25, 32, 3, 35, 85, 29, 48, 22, 74, 55, 53, 4, 7, 91, 10, 80, 45, 69, 71, 83, 37, 41, 93, 39, 44, 96, 2, 8, 52, 13, 50, 84, 79, 26, 6, 24, 57, 81, 47, 49, 12, 77, 16, 61, 38, 40, 60, 66, 1, 18, 14, 99, 62]\n"
     ]
    }
   ],
   "source": [
    "print(train_ids)"
   ]
  },
  {
   "cell_type": "markdown",
   "metadata": {
    "id": "AnrDu_fF1MiV"
   },
   "source": [
    "## Training"
   ]
  },
  {
   "cell_type": "code",
   "execution_count": 4,
   "metadata": {
    "id": "v0wMI70z9w7S"
   },
   "outputs": [],
   "source": [
    "import sys, importlib\n",
    "import CA\n",
    "importlib.reload(sys.modules['CA'])\n",
    "\n",
    "import torch\n",
    "from CA import AE, plot_history, hyperparameter_tuning\n",
    "from utils import ACDCDataLoader\n",
    "\n",
    "device = torch.device(\"cuda\" if torch.cuda.is_available() else \"cpu\")"
   ]
  },
  {
   "cell_type": "code",
   "execution_count": null,
   "metadata": {
    "colab": {
     "base_uri": "https://localhost:8080/"
    },
    "id": "_pBbyYe3Z5XG",
    "outputId": "2a704f42-ec6d-42bd-b88a-2a6ce087193c"
   },
   "outputs": [],
   "source": [
    "#the following cell allows the user to tune his own hyperparameters. In case you wanna try our hyperparameters first, just skip this cell.\n",
    "\n",
    "#this is a list of possible values being tested for each hyperparameter.\n",
    "parameters = {\n",
    "    \"DA\": [True, False], #data augmentation\n",
    "    \"latent_size\": [100, 500], #size of the latent space of the autoencoder\n",
    "    \"BATCH_SIZE\": [8, 16, 4],\n",
    "    \"optimizer\": [torch.optim.Adam],\n",
    "    \"lr\": [2e-4, 1e-4, 1e-3],\n",
    "    \"weight_decay\": [1e-5],\n",
    "    \"tuning_epochs\": [5, 10], #number of epochs each configuration is run for\n",
    "    \"functions\": [[\"GDLoss\", \"MSELoss\"], [\"GDLoss\"], [\"BKGDLoss\", \"BKMSELoss\"]], #list of loss functions to be evaluated. BK stands for \"background\", which is a predominant and not compulsory class (it can lead to a dumb local minimum retrieving totally black images).\n",
    "    \"settling_epochs_BKGDLoss\": [10, 0], #during these epochs BK has half the weight of LV, RV and MYO in the evaluation of BKGDLoss\n",
    "    \"settling_epochs_BKMSELoss\": [10, 0], #during these epochs BK has half the weight of LV, RV and MYO in the evaluation of BKMSELoss\n",
    "}\n",
    "\n",
    "#this is a list of rules cutting out some useless combinations of hyperparameters from the tuning process.\n",
    "rules = [\n",
    "    '\"settling_epochs_BKGDLoss\" == 0 or \"BKGDLoss\" in \"functions\"',\n",
    "    '\"settling_epochs_BKMSELoss\" == 0 or \"BKMSELoss\" in \"functions\"',\n",
    "    '\"BKGDLoss\" not in \"functions\" or \"settling_epochs_BKGDLoss\" <= \"tuning_epochs\"',\n",
    "    '\"BKMSELoss\" not in \"functions\" or \"settling_epochs_BKMSELoss\" <= \"tuning_epochs\"',\n",
    "    #'\"BKGDLoss\" not in \"functions\" or \"settling_epochs_BKGDLoss\" >= \"settling_epochs_BKMSELoss\"'\n",
    "]\n",
    "\n",
    "optimal_parameters = hyperparameter_tuning(\n",
    "    parameters,\n",
    "    ACDCDataLoader(\"preprocessed/training\", patient_ids=train_ids, batch_size=None, transform=None),\n",
    "    ACDCDataLoader(\"preprocessed/training\", patient_ids=val_ids, batch_size=None, transform=None),\n",
    "    transform, transform_augmentation,\n",
    "    rules,\n",
    "    fast=True) #very important parameter. When False, all combinations are tested to return the one retrieving the maximum DSC. When True, the first combination avoiding dumb local minima is returned.\n",
    "\n",
    "np.save(os.path.join(\"preprocessed/\", \"optimal_parameters\"), optimal_parameters)"
   ]
  },
  {
   "cell_type": "code",
   "execution_count": 1,
   "metadata": {
    "colab": {
     "base_uri": "https://localhost:8080/",
     "height": 1000
    },
    "id": "m8gpOEE5Z0sP",
    "outputId": "5eed6494-abf2-4f3c-cd28-0840b909cd02"
   },
   "outputs": [
    {
     "ename": "NameError",
     "evalue": "name 'torch' is not defined",
     "output_type": "error",
     "traceback": [
      "\u001b[0;31m---------------------------------------------------------------------------\u001b[0m",
      "\u001b[0;31mNameError\u001b[0m                                 Traceback (most recent call last)",
      "Cell \u001b[0;32mIn [1], line 10\u001b[0m\n\u001b[1;32m      4\u001b[0m     optimal_parameters \u001b[39m=\u001b[39m np\u001b[39m.\u001b[39mload(os\u001b[39m.\u001b[39mpath\u001b[39m.\u001b[39mjoin(\u001b[39m\"\u001b[39m\u001b[39mpreprocessed\u001b[39m\u001b[39m\"\u001b[39m, \u001b[39m\"\u001b[39m\u001b[39moptimal_parameters.npy\u001b[39m\u001b[39m\"\u001b[39m), allow_pickle\u001b[39m=\u001b[39m\u001b[39mTrue\u001b[39;00m)\u001b[39m.\u001b[39mitem()\n\u001b[1;32m      5\u001b[0m \u001b[39melse\u001b[39;00m:\n\u001b[1;32m      6\u001b[0m     optimal_parameters \u001b[39m=\u001b[39m {\n\u001b[1;32m      7\u001b[0m         \u001b[39m\"\u001b[39m\u001b[39mBATCH_SIZE\u001b[39m\u001b[39m\"\u001b[39m: \u001b[39m8\u001b[39m,\n\u001b[1;32m      8\u001b[0m         \u001b[39m\"\u001b[39m\u001b[39mDA\u001b[39m\u001b[39m\"\u001b[39m: \u001b[39mFalse\u001b[39;00m,\n\u001b[1;32m      9\u001b[0m         \u001b[39m\"\u001b[39m\u001b[39mlatent_size\u001b[39m\u001b[39m\"\u001b[39m: \u001b[39m100\u001b[39m,\n\u001b[0;32m---> 10\u001b[0m         \u001b[39m\"\u001b[39m\u001b[39moptimizer\u001b[39m\u001b[39m\"\u001b[39m: torch\u001b[39m.\u001b[39moptim\u001b[39m.\u001b[39mAdam,\n\u001b[1;32m     11\u001b[0m         \u001b[39m\"\u001b[39m\u001b[39mlr\u001b[39m\u001b[39m\"\u001b[39m: \u001b[39m2e-4\u001b[39m,\n\u001b[1;32m     12\u001b[0m         \u001b[39m\"\u001b[39m\u001b[39mweight_decay\u001b[39m\u001b[39m\"\u001b[39m: \u001b[39m1e-5\u001b[39m,\n\u001b[1;32m     13\u001b[0m         \u001b[39m\"\u001b[39m\u001b[39mfunctions\u001b[39m\u001b[39m\"\u001b[39m: [\u001b[39m\"\u001b[39m\u001b[39mBKGDLoss\u001b[39m\u001b[39m\"\u001b[39m, \u001b[39m\"\u001b[39m\u001b[39mBKMSELoss\u001b[39m\u001b[39m\"\u001b[39m],\n\u001b[1;32m     14\u001b[0m         \u001b[39m\"\u001b[39m\u001b[39msettling_epochs_BKGDLoss\u001b[39m\u001b[39m\"\u001b[39m: \u001b[39m10\u001b[39m,\n\u001b[1;32m     15\u001b[0m         \u001b[39m\"\u001b[39m\u001b[39msettling_epochs_BKMSELoss\u001b[39m\u001b[39m\"\u001b[39m: \u001b[39m0\u001b[39m\n\u001b[1;32m     16\u001b[0m     }\n\u001b[1;32m     17\u001b[0m     np\u001b[39m.\u001b[39msave(os\u001b[39m.\u001b[39mpath\u001b[39m.\u001b[39mjoin(\u001b[39m\"\u001b[39m\u001b[39mpreprocessed/\u001b[39m\u001b[39m\"\u001b[39m, \u001b[39m\"\u001b[39m\u001b[39moptimal_parameters\u001b[39m\u001b[39m\"\u001b[39m), optimal_parameters)\n\u001b[1;32m     19\u001b[0m \u001b[39massert\u001b[39;00m optimal_parameters \u001b[39mis\u001b[39;00m \u001b[39mnot\u001b[39;00m \u001b[39mNone\u001b[39;00m, \u001b[39m\"\u001b[39m\u001b[39mBe sure to continue with a working set of hyperparameters\u001b[39m\u001b[39m\"\u001b[39m\n",
      "\u001b[0;31mNameError\u001b[0m: name 'torch' is not defined"
     ]
    }
   ],
   "source": [
    "upload_your_own_parameters = False\n",
    "\n",
    "if upload_your_own_parameters:\n",
    "    optimal_parameters = np.load(os.path.join(\"preprocessed\", \"optimal_parameters.npy\"), allow_pickle=True).item()\n",
    "else:\n",
    "    optimal_parameters = {\n",
    "        \"BATCH_SIZE\": 8,\n",
    "        \"DA\": False,\n",
    "        \"latent_size\": 100,\n",
    "        \"optimizer\": torch.optim.Adam,\n",
    "        \"lr\": 2e-4,\n",
    "        \"weight_decay\": 1e-5,\n",
    "        \"functions\": [\"BKGDLoss\", \"BKMSELoss\"],\n",
    "        \"settling_epochs_BKGDLoss\": 10,\n",
    "        \"settling_epochs_BKMSELoss\": 0\n",
    "    }\n",
    "    np.save(os.path.join(\"preprocessed/\", \"optimal_parameters\"), optimal_parameters)\n",
    "\n",
    "assert optimal_parameters is not None, \"Be sure to continue with a working set of hyperparameters\"\n",
    "\n",
    "BATCH_SIZE = optimal_parameters[\"BATCH_SIZE\"]\n",
    "DA = optimal_parameters[\"DA\"]\n",
    "\n",
    "ae = AE(**optimal_parameters).to(device)\n",
    "\n",
    "ckpt = 'checkpoints/490_best.pth'\n",
    "if ckpt is not None:\n",
    "    ckpt = torch.load(ckpt)\n",
    "    ae.load_state_dict(ckpt[\"AE\"])\n",
    "    ae.optimizer.load_state_dict(ckpt[\"AE_optim\"])\n",
    "    start = ckpt[\"epoch\"]+1\n",
    "else:\n",
    "    start = 0\n",
    "\n",
    "print(ae)\n",
    "\n",
    "plot_history(\n",
    "    ae.training_routine(\n",
    "        range(start, 500),\n",
    "        ACDCDataLoader(\"preprocessed/training\", patient_ids=train_ids, batch_size=BATCH_SIZE, transform=transform_augmentation if DA else transform),\n",
    "        ACDCDataLoader(\"preprocessed/training\", patient_ids=val_ids, batch_size=BATCH_SIZE, transform=transform),\n",
    "        \"checkpoints/\"\n",
    "    )\n",
    ")"
   ]
  },
  {
   "cell_type": "markdown",
   "metadata": {
    "id": "K0SXjutg1lQP"
   },
   "source": [
    "## Testing"
   ]
  },
  {
   "cell_type": "code",
   "execution_count": 2,
   "metadata": {
    "id": "F9M9oZQMOxDT"
   },
   "outputs": [],
   "source": [
    "import os\n",
    "import numpy as np\n",
    "import torch\n",
    "import nibabel as nib\n",
    "from CA import AE\n",
    "from utils import testing, display_image, display_difference, process_results, display_plots, ACDCDataLoader\n",
    "device = torch.device(\"cuda\" if torch.cuda.is_available() else \"cpu\")"
   ]
  },
  {
   "cell_type": "code",
   "execution_count": 15,
   "metadata": {},
   "outputs": [],
   "source": [
    "# Run if you skip the training part\n",
    "\n",
    "optimal_parameters = {\n",
    "        \"BATCH_SIZE\": 8,\n",
    "        \"DA\": False,\n",
    "        \"latent_size\": 100,\n",
    "        \"optimizer\": torch.optim.Adam,\n",
    "        \"lr\": 2e-4,\n",
    "        \"weight_decay\": 1e-5,\n",
    "        \"functions\": [\"BKGDLoss\", \"BKMSELoss\"],\n",
    "        \"settling_epochs_BKGDLoss\": 10,\n",
    "        \"settling_epochs_BKMSELoss\": 0\n",
    "    }\n",
    "np.save(os.path.join(\"preprocessed/\", \"optimal_parameters\"), optimal_parameters)\n",
    "BATCH_SIZE = optimal_parameters[\"BATCH_SIZE\"]\n",
    "DA = optimal_parameters[\"DA\"]"
   ]
  },
  {
   "cell_type": "code",
   "execution_count": 8,
   "metadata": {
    "id": "aqqohIrvpfmj"
   },
   "outputs": [],
   "source": [
    "# optimal_parameters = np.load(os.path.join(\"preprocessed\", \"optimal_parameters.npy\"), allow_pickle=True).item()\n",
    "assert optimal_parameters is not None, \"Be sure to continue with a working set of hyperparameters\"\n",
    "\n",
    "ckpt = os.path.join(\"checkpoints\", sorted([file for file in os.listdir(\"checkpoints\") if \"_best\" in file])[-1])\n",
    "ckpt = torch.load(ckpt)\n",
    "\n",
    "ae = AE(**optimal_parameters).to(device)\n",
    "ae.load_state_dict(ckpt[\"AE\"])\n",
    "ae.optimizer.load_state_dict(ckpt[\"AE_optim\"])\n",
    "ae.eval();"
   ]
  },
  {
   "cell_type": "code",
   "execution_count": 9,
   "metadata": {
    "id": "vn5gKFJgH-86"
   },
   "outputs": [],
   "source": [
    "patient_info = np.load(\"preprocessed/patient_info.npy\", allow_pickle=True).item()\n",
    "#spacings = [patient_info[id][\"spacing\"] for id in range(1, 101)]\n",
    "#current_spacing = np.percentile(np.vstack(spacings), 50, 0)\n",
    "current_spacing = [10, 1.25, 1.25]"
   ]
  },
  {
   "cell_type": "code",
   "execution_count": 14,
   "metadata": {
    "id": "gBD79i6O9Ves"
   },
   "outputs": [],
   "source": [
    "test_loaders = {}\n",
    "for model in os.listdir(\"preprocessed/predictions/\"):\n",
    "    test_loaders[model] = ACDCDataLoader(\"preprocessed/predictions/{}\".format(model), patient_ids=range(101, 151), batch_size=BATCH_SIZE, transform=transform)\n",
    "\n",
    "if not os.path.exists(\"postprocessed/measures\"):\n",
    "    os.makedirs(\"postprocessed/measures\")\n",
    "for model in sorted(test_loaders.keys()):\n",
    "    if not os.path.exists(\"postprocessed/predictions/{}\".format(model)):\n",
    "        os.makedirs(\"postprocessed/predictions/{}\".format(model))\n",
    "    results = testing(ae, test_loaders[model], patient_info, \"data/predictions/{}\".format(model), \"postprocessed/predictions/{}\".format(model), current_spacing)\n",
    "    np.save(\"postprocessed/measures/{}_AE.npy\".format(model), results)"
   ]
  },
  {
   "cell_type": "markdown",
   "metadata": {
    "id": "uTyq0Q4V7V1U"
   },
   "source": [
    "### Single patient"
   ]
  },
  {
   "cell_type": "code",
   "execution_count": 19,
   "metadata": {
    "id": "LnzjGVC47Y06"
   },
   "outputs": [],
   "source": [
    "model = \"Bai\"\n",
    "patient_id = 102\n",
    "phase = \"ED\"\n",
    "\n",
    "prediction = nib.load(\"data/predictions/{}/patient{:03d}_{}.nii.gz\".format(model, patient_id, phase)).get_fdata().transpose(2, 1, 0)\n",
    "reconstruction = nib.load(\"postprocessed/predictions/{}/patient{:03d}_{}.nii.gz\".format(model, patient_id, phase)).get_fdata().transpose(2, 1, 0)"
   ]
  },
  {
   "cell_type": "code",
   "execution_count": 20,
   "metadata": {
    "colab": {
     "base_uri": "https://localhost:8080/",
     "height": 273
    },
    "id": "0IkkskWafqMN",
    "outputId": "320f2129-b061-4ef0-cdfe-5bc78a6f2e1c"
   },
   "outputs": [
    {
     "data": {
      "image/png": "[encoded data removed]",
      "text/plain": [
       "<PIL.Image.Image image mode=L size=216x256>"
      ]
     },
     "metadata": {},
     "output_type": "display_data"
    }
   ],
   "source": [
    "from utils import display_image, display_difference\n",
    "display_image(prediction[2])"
   ]
  },
  {
   "cell_type": "code",
   "execution_count": 21,
   "metadata": {
    "colab": {
     "base_uri": "https://localhost:8080/",
     "height": 273
    },
    "id": "F_v-gmYtZdF1",
    "outputId": "1b56dbc3-7bca-42ae-865a-e5b1fb1618f9"
   },
   "outputs": [
    {
     "data": {
      "image/png": "[encoded data removed]",
      "text/plain": [
       "<PIL.Image.Image image mode=L size=216x256>"
      ]
     },
     "metadata": {},
     "output_type": "display_data"
    }
   ],
   "source": [
    "display_image(reconstruction[2])"
   ]
  },
  {
   "cell_type": "code",
   "execution_count": 22,
   "metadata": {
    "colab": {
     "base_uri": "https://localhost:8080/",
     "height": 273
    },
    "id": "jjSWLoPe8ugI",
    "outputId": "24041381-8170-463f-ad91-9c574a57b98c"
   },
   "outputs": [
    {
     "data": {
      "image/png": "[encoded data removed]",
      "text/plain": [
       "<PIL.Image.Image image mode=RGB size=216x256>"
      ]
     },
     "metadata": {},
     "output_type": "display_data"
    }
   ],
   "source": [
    "display_difference(prediction[2], reconstruction[2])"
   ]
  },
  {
   "cell_type": "markdown",
   "metadata": {
    "id": "aeVqdQp-TujS"
   },
   "source": [
    "### Plots"
   ]
  },
  {
   "cell_type": "code",
   "execution_count": 23,
   "metadata": {
    "colab": {
     "base_uri": "https://localhost:8080/"
    },
    "id": "ozYFOIGRTvHz",
    "outputId": "7cb0bdeb-474c-429e-dd25-df08d4838d5f"
   },
   "outputs": [
    {
     "name": "stdout",
     "output_type": "stream",
     "text": [
      "Anomalies (DSC=0/HD=nan): 16\n",
      "Spotted by CA: 15\n",
      "False Positive by CA: 3\n",
      "Total discarded from the next plots: 19\n"
     ]
    }
   ],
   "source": [
    "models = [\"Bai\", \"Baumgartner\", \"Grinias\", \"Isensee\", \"Khened\", \"Yang\"]\n",
    "plots = process_results(models, \"data/measures/\", \"postprocessed/measures/\")"
   ]
  },
  {
   "cell_type": "code",
   "execution_count": 1,
   "metadata": {
    "colab": {
     "base_uri": "https://localhost:8080/",
     "height": 617
    },
    "id": "t8rhL2eyTXxM",
    "outputId": "a2c45a09-8c45-4d9f-c64c-28b2c7858088"
   },
   "outputs": [
    {
     "ename": "NameError",
     "evalue": "name 'display_plots' is not defined",
     "output_type": "error",
     "traceback": [
      "\u001b[0;31m---------------------------------------------------------------------------\u001b[0m",
      "\u001b[0;31mNameError\u001b[0m                                 Traceback (most recent call last)",
      "Cell \u001b[0;32mIn [1], line 1\u001b[0m\n\u001b[0;32m----> 1\u001b[0m display_plots(plots)\n",
      "\u001b[0;31mNameError\u001b[0m: name 'display_plots' is not defined"
     ]
    }
   ],
   "source": [
    "display_plots(plots)"
   ]
  },
  {
   "cell_type": "code",
   "execution_count": 23,
   "metadata": {},
   "outputs": [],
   "source": [
    "patient_info = np.load(\"data/brain/preprocessed/patient_info.npy\", allow_pickle=True).item()"
   ]
  },
  {
   "cell_type": "code",
   "execution_count": null,
   "metadata": {},
   "outputs": [],
   "source": []
  }
 ],
 "metadata": {
  "accelerator": "GPU",
  "colab": {
   "collapsed_sections": [
    "3JDznSZY9fyQ",
    "x_ybwFnEnm5y"
   ],
   "machine_shape": "hm",
   "name": "QC (2).ipynb",
   "provenance": []
  },
  "kernelspec": {
   "display_name": "Python 3.8.10 ('.venv': venv)",
   "language": "python",
   "name": "python3"
  },
  "language_info": {
   "codemirror_mode": {
    "name": "ipython",
    "version": 3
   },
   "file_extension": ".py",
   "mimetype": "text/x-python",
   "name": "python",
   "nbconvert_exporter": "python",
   "pygments_lexer": "ipython3",
   "version": "3.8.10 (default, Nov 26 2021, 20:14:08) \n[GCC 9.3.0]"
  },
  "vscode": {
   "interpreter": {
    "hash": "26d733a98facd73c2412bf9332d44f71a6215b75d7e140b7f3987c8b99d7cfb5"
   }
  }
 },
 "nbformat": 4,
 "nbformat_minor": 1
}
