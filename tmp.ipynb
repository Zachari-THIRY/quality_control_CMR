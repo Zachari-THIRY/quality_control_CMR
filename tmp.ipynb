{
 "cells": [
  {
   "cell_type": "code",
   "execution_count": 1,
   "metadata": {},
   "outputs": [],
   "source": [
    "import numpy as np\n",
    "import os\n",
    "from utils import crop_image\n",
    "import nibabel as nib"
   ]
  },
  {
   "cell_type": "code",
   "execution_count": 8,
   "metadata": {},
   "outputs": [],
   "source": [
    "def generate_patient_info_brain(folder, verbose = False, fileName=\"image.nii.gz\"):\n",
    "    print(fileName)\n",
    "    patients_list  =sorted(os.listdir(folder))\n",
    "    if patients_list[-1] == \"patient_info.npy\" : patients_list.pop(-1)\n",
    "    patient_ids = [i for i in range(len(patients_list))]\n",
    "    patient_ids.remove(9) # removing absent images or masks\n",
    "    patient_info = {}\n",
    "    for id in patient_ids:\n",
    "        patient_folder = os.path.join(folder, 'patient{:03d}'.format(id))\n",
    "        image = nib.load(os.path.join(patient_folder, fileName))\n",
    "        patient_info[id] = {} # Initialising it\n",
    "        patient_info[id][\"shape\"] = image.get_fdata().shape\n",
    "        patient_info[id][\"crop\"] = crop_image(image.get_fdata())\n",
    "\n",
    "        patient_info[id][\"spacing\"] = image.header[\"pixdim\"][[3,2,1]]\n",
    "        patient_info[id][\"header\"] = image.header\n",
    "        patient_info[id][\"affine\"] = image.affine\n",
    "        if(id%10 == 0 and verbose) : \n",
    "            print(\"Just processed patient {PATIENT_ID:03d} out of {TOTAL:03d}\".format(PATIENT_ID = id, TOTAL=len(patient_ids)))\n",
    "    return patient_info"
   ]
  },
  {
   "cell_type": "code",
   "execution_count": 10,
   "metadata": {},
   "outputs": [
    {
     "name": "stdout",
     "output_type": "stream",
     "text": [
      "mask.nii.gz\n",
      "Just processed patient 000 out of 443\n",
      "Just processed patient 010 out of 443\n",
      "Just processed patient 020 out of 443\n",
      "Just processed patient 030 out of 443\n",
      "Just processed patient 040 out of 443\n",
      "Just processed patient 050 out of 443\n",
      "Just processed patient 060 out of 443\n",
      "Just processed patient 070 out of 443\n",
      "Just processed patient 080 out of 443\n",
      "Just processed patient 090 out of 443\n",
      "Just processed patient 100 out of 443\n",
      "Just processed patient 110 out of 443\n",
      "Just processed patient 120 out of 443\n",
      "Just processed patient 130 out of 443\n",
      "Just processed patient 140 out of 443\n",
      "Just processed patient 150 out of 443\n",
      "Just processed patient 160 out of 443\n",
      "Just processed patient 170 out of 443\n",
      "Just processed patient 180 out of 443\n",
      "Just processed patient 190 out of 443\n",
      "Just processed patient 200 out of 443\n",
      "Just processed patient 210 out of 443\n",
      "Just processed patient 220 out of 443\n",
      "Just processed patient 230 out of 443\n",
      "Just processed patient 240 out of 443\n",
      "Just processed patient 250 out of 443\n",
      "Just processed patient 260 out of 443\n",
      "Just processed patient 270 out of 443\n",
      "Just processed patient 280 out of 443\n",
      "Just processed patient 290 out of 443\n",
      "Just processed patient 300 out of 443\n",
      "Just processed patient 310 out of 443\n",
      "Just processed patient 320 out of 443\n",
      "Just processed patient 330 out of 443\n",
      "Just processed patient 340 out of 443\n",
      "Just processed patient 350 out of 443\n",
      "Just processed patient 360 out of 443\n",
      "Just processed patient 370 out of 443\n",
      "Just processed patient 380 out of 443\n",
      "Just processed patient 390 out of 443\n",
      "Just processed patient 400 out of 443\n",
      "Just processed patient 410 out of 443\n",
      "Just processed patient 420 out of 443\n",
      "Just processed patient 430 out of 443\n",
      "Just processed patient 440 out of 443\n"
     ]
    }
   ],
   "source": [
    "info_mask = generate_patient_info_brain(folder=\"data/brain/structured/\", verbose=True, fileName=\"mask.nii.gz\")"
   ]
  },
  {
   "cell_type": "code",
   "execution_count": 11,
   "metadata": {},
   "outputs": [],
   "source": [
    "patient_info = np.load(\"data/brain/preprocessed/patient_info.npy\", allow_pickle=True).item()"
   ]
  },
  {
   "cell_type": "code",
   "execution_count": 25,
   "metadata": {},
   "outputs": [
    {
     "data": {
      "text/plain": [
       "[0, 1, 3, 4, 5, 6, 8, 9, 10, 11, 12, 13, 14]"
      ]
     },
     "execution_count": 25,
     "metadata": {},
     "output_type": "execute_result"
    }
   ],
   "source": [
    "skip = [2,7]\n",
    "patient_ids = range(0,15)\n",
    "\n",
    "[i for i in patient_ids if i not in skip]"
   ]
  },
  {
   "cell_type": "code",
   "execution_count": 7,
   "metadata": {},
   "outputs": [],
   "source": [
    "id = 12\n",
    "folder_predictions = \"/home/thiry/quality_control_CMR/data/brain/structured/\"\n",
    "path = os.path.join(folder_predictions,f\"patient{id:03d}\", \"mask.nii.gz\")"
   ]
  }
 ],
 "metadata": {
  "kernelspec": {
   "display_name": "Python 3 (ipykernel)",
   "language": "python",
   "name": "python3"
  },
  "language_info": {
   "codemirror_mode": {
    "name": "ipython",
    "version": 3
   },
   "file_extension": ".py",
   "mimetype": "text/x-python",
   "name": "python",
   "nbconvert_exporter": "python",
   "pygments_lexer": "ipython3",
   "version": "3.8.10 (default, Nov 26 2021, 20:14:08) \n[GCC 9.3.0]"
  },
  "orig_nbformat": 4,
  "vscode": {
   "interpreter": {
    "hash": "26d733a98facd73c2412bf9332d44f71a6215b75d7e140b7f3987c8b99d7cfb5"
   }
  }
 },
 "nbformat": 4,
 "nbformat_minor": 2
}
